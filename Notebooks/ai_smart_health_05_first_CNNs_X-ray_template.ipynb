{
 "cells": [
  {
   "attachments": {},
   "cell_type": "markdown",
   "metadata": {},
   "source": [
    "## 🧠💡 Intelligent Systems  for Smart Health 👨‍⚕👩‍⚕️"
   ]
  },
  {
   "attachments": {},
   "cell_type": "markdown",
   "metadata": {},
   "source": [
    "# CNN (Convolutional Neural Networks)\n",
    "\n",
    "Convolutional Neural Networks, or CNNs for short, are a powerful type of neural network commonly used in computer vision tasks. They are particularly well-suited to tasks like image classification and object detection because they are able to automatically learn and extract relevant features from input images. CNNs consist of multiple layers, each of which performs a different type of processing on the input data. These layers typically include convolutional layers, which extract features from the input images, and pooling layers, which downsample the output of the convolutional layers. By stacking these layers on top of one another, a CNN is able to learn increasingly complex representations of the input data."
   ]
  },
  {
   "attachments": {},
   "cell_type": "markdown",
   "metadata": {},
   "source": [
    "## The dataset\n",
    "\n",
    "For this sesseion, we will be using the [ChestX-ray8 dataset](https://arxiv.org/abs/1705.02315) which contains 108,948 frontal-view X-ray images of about 30,000 unique patients. \n",
    "- Each image in the data set contains multiple text-mined labels identifying 14 different pathological conditions. \n",
    "- These in turn can be used by physicians to diagnose 8 different diseases. \n",
    "- We will use this data to develop a single model that will provide binary classification predictions for each of the 14 labeled pathologies. \n",
    "- In other words it will predict 'positive' or 'negative' for each of the pathologies.\n",
    " \n",
    "The full dataset is available for free [here](https://nihcc.app.box.com/v/ChestXray-NIHCC).\n",
    "\n",
    "**However, we will work with a smaller subset containing about 10% of the original data!!**"
   ]
  },
  {
   "cell_type": "code",
   "execution_count": 1,
   "metadata": {},
   "outputs": [],
   "source": [
    "# Import necessary packages\n",
    "import os\n",
    "import pandas as pd\n",
    "import numpy as np\n",
    "import matplotlib.pyplot as plt\n",
    "%matplotlib inline\n",
    "import seaborn as sb"
   ]
  },
  {
   "attachments": {},
   "cell_type": "markdown",
   "metadata": {},
   "source": [
    "## 1. Exploration\n",
    "\n",
    "Read the data from `csv` files."
   ]
  },
  {
   "cell_type": "code",
   "execution_count": 2,
   "metadata": {},
   "outputs": [
    {
     "data": {
      "text/html": [
       "<div>\n",
       "<style scoped>\n",
       "    .dataframe tbody tr th:only-of-type {\n",
       "        vertical-align: middle;\n",
       "    }\n",
       "\n",
       "    .dataframe tbody tr th {\n",
       "        vertical-align: top;\n",
       "    }\n",
       "\n",
       "    .dataframe thead th {\n",
       "        text-align: right;\n",
       "    }\n",
       "</style>\n",
       "<table border=\"1\" class=\"dataframe\">\n",
       "  <thead>\n",
       "    <tr style=\"text-align: right;\">\n",
       "      <th></th>\n",
       "      <th>image</th>\n",
       "      <th>follow_up_no</th>\n",
       "      <th>patient_id</th>\n",
       "      <th>patient_age</th>\n",
       "      <th>gender</th>\n",
       "      <th>view_position</th>\n",
       "      <th>atelectasis</th>\n",
       "      <th>cardiomegaly</th>\n",
       "      <th>consolidation</th>\n",
       "      <th>edema</th>\n",
       "      <th>...</th>\n",
       "      <th>emphysema</th>\n",
       "      <th>fibrosis</th>\n",
       "      <th>hernia</th>\n",
       "      <th>infiltration</th>\n",
       "      <th>mass</th>\n",
       "      <th>no_finding</th>\n",
       "      <th>nodule</th>\n",
       "      <th>pleural_thickening</th>\n",
       "      <th>pneumonia</th>\n",
       "      <th>pneumothorax</th>\n",
       "    </tr>\n",
       "  </thead>\n",
       "  <tbody>\n",
       "    <tr>\n",
       "      <th>0</th>\n",
       "      <td>00013244_008.png</td>\n",
       "      <td>8</td>\n",
       "      <td>13244</td>\n",
       "      <td>58</td>\n",
       "      <td>F</td>\n",
       "      <td>PA</td>\n",
       "      <td>0</td>\n",
       "      <td>0</td>\n",
       "      <td>0</td>\n",
       "      <td>0</td>\n",
       "      <td>...</td>\n",
       "      <td>0</td>\n",
       "      <td>0</td>\n",
       "      <td>0</td>\n",
       "      <td>0</td>\n",
       "      <td>0</td>\n",
       "      <td>0</td>\n",
       "      <td>0</td>\n",
       "      <td>0</td>\n",
       "      <td>0</td>\n",
       "      <td>1</td>\n",
       "    </tr>\n",
       "    <tr>\n",
       "      <th>1</th>\n",
       "      <td>00016807_023.png</td>\n",
       "      <td>23</td>\n",
       "      <td>16807</td>\n",
       "      <td>60</td>\n",
       "      <td>M</td>\n",
       "      <td>PA</td>\n",
       "      <td>0</td>\n",
       "      <td>0</td>\n",
       "      <td>0</td>\n",
       "      <td>0</td>\n",
       "      <td>...</td>\n",
       "      <td>0</td>\n",
       "      <td>0</td>\n",
       "      <td>0</td>\n",
       "      <td>0</td>\n",
       "      <td>0</td>\n",
       "      <td>0</td>\n",
       "      <td>0</td>\n",
       "      <td>1</td>\n",
       "      <td>0</td>\n",
       "      <td>0</td>\n",
       "    </tr>\n",
       "    <tr>\n",
       "      <th>2</th>\n",
       "      <td>00019988_002.png</td>\n",
       "      <td>2</td>\n",
       "      <td>19988</td>\n",
       "      <td>55</td>\n",
       "      <td>M</td>\n",
       "      <td>AP</td>\n",
       "      <td>0</td>\n",
       "      <td>0</td>\n",
       "      <td>0</td>\n",
       "      <td>0</td>\n",
       "      <td>...</td>\n",
       "      <td>0</td>\n",
       "      <td>0</td>\n",
       "      <td>0</td>\n",
       "      <td>0</td>\n",
       "      <td>0</td>\n",
       "      <td>1</td>\n",
       "      <td>0</td>\n",
       "      <td>0</td>\n",
       "      <td>0</td>\n",
       "      <td>0</td>\n",
       "    </tr>\n",
       "    <tr>\n",
       "      <th>3</th>\n",
       "      <td>00018840_022.png</td>\n",
       "      <td>22</td>\n",
       "      <td>18840</td>\n",
       "      <td>21</td>\n",
       "      <td>F</td>\n",
       "      <td>AP</td>\n",
       "      <td>0</td>\n",
       "      <td>0</td>\n",
       "      <td>1</td>\n",
       "      <td>0</td>\n",
       "      <td>...</td>\n",
       "      <td>0</td>\n",
       "      <td>0</td>\n",
       "      <td>0</td>\n",
       "      <td>1</td>\n",
       "      <td>0</td>\n",
       "      <td>0</td>\n",
       "      <td>0</td>\n",
       "      <td>0</td>\n",
       "      <td>0</td>\n",
       "      <td>0</td>\n",
       "    </tr>\n",
       "    <tr>\n",
       "      <th>4</th>\n",
       "      <td>00002072_007.png</td>\n",
       "      <td>7</td>\n",
       "      <td>2072</td>\n",
       "      <td>9</td>\n",
       "      <td>M</td>\n",
       "      <td>AP</td>\n",
       "      <td>0</td>\n",
       "      <td>0</td>\n",
       "      <td>1</td>\n",
       "      <td>0</td>\n",
       "      <td>...</td>\n",
       "      <td>0</td>\n",
       "      <td>0</td>\n",
       "      <td>0</td>\n",
       "      <td>0</td>\n",
       "      <td>0</td>\n",
       "      <td>0</td>\n",
       "      <td>0</td>\n",
       "      <td>0</td>\n",
       "      <td>0</td>\n",
       "      <td>0</td>\n",
       "    </tr>\n",
       "  </tbody>\n",
       "</table>\n",
       "<p>5 rows × 21 columns</p>\n",
       "</div>"
      ],
      "text/plain": [
       "              image  follow_up_no  patient_id  patient_age gender  \\\n",
       "0  00013244_008.png             8       13244           58      F   \n",
       "1  00016807_023.png            23       16807           60      M   \n",
       "2  00019988_002.png             2       19988           55      M   \n",
       "3  00018840_022.png            22       18840           21      F   \n",
       "4  00002072_007.png             7        2072            9      M   \n",
       "\n",
       "  view_position  atelectasis  cardiomegaly  consolidation  edema  ...  \\\n",
       "0            PA            0             0              0      0  ...   \n",
       "1            PA            0             0              0      0  ...   \n",
       "2            AP            0             0              0      0  ...   \n",
       "3            AP            0             0              1      0  ...   \n",
       "4            AP            0             0              1      0  ...   \n",
       "\n",
       "   emphysema  fibrosis  hernia  infiltration  mass  no_finding  nodule  \\\n",
       "0          0         0       0             0     0           0       0   \n",
       "1          0         0       0             0     0           0       0   \n",
       "2          0         0       0             0     0           1       0   \n",
       "3          0         0       0             1     0           0       0   \n",
       "4          0         0       0             0     0           0       0   \n",
       "\n",
       "   pleural_thickening  pneumonia  pneumothorax  \n",
       "0                   0          0             1  \n",
       "1                   1          0             0  \n",
       "2                   0          0             0  \n",
       "3                   0          0             0  \n",
       "4                   0          0             0  \n",
       "\n",
       "[5 rows x 21 columns]"
      ]
     },
     "execution_count": 2,
     "metadata": {},
     "output_type": "execute_result"
    }
   ],
   "source": [
    "path_data = \"../data/ChestX_subset/\"\n",
    "\n",
    "metadata_df = pd.read_csv(os.path.join(path_data, \"metadata.csv\"))\n",
    "metadata_df.head()"
   ]
  },
  {
   "attachments": {},
   "cell_type": "markdown",
   "metadata": {},
   "source": [
    "### 1.1 Data Types and Null Values Check\n",
    "\n",
    "Run the next cell to explore the data types present in each column and whether any null values exist in the data."
   ]
  },
  {
   "cell_type": "code",
   "execution_count": null,
   "metadata": {
    "scrolled": true
   },
   "outputs": [],
   "source": [
    "# Look at the data type of each column and whether null values are present\n",
    "metadata_df.info()"
   ]
  },
  {
   "attachments": {},
   "cell_type": "markdown",
   "metadata": {},
   "source": [
    "### 1.2 Unique IDs Check\n",
    "\n",
    "\"PatientId\" has an identification number for each patient. One thing you'd like to know about a medical dataset like this is if you're looking at repeated data for certain patients or whether each image represents a different person."
   ]
  },
  {
   "cell_type": "code",
   "execution_count": null,
   "metadata": {},
   "outputs": [],
   "source": [
    "print(\n",
    "    f\"The total patient ids are {metadata_df['patient_id'].count()}, \\\n",
    "from those the unique ids are {len(metadata_df['patient_id'].unique())} \"\n",
    ")"
   ]
  },
  {
   "attachments": {},
   "cell_type": "markdown",
   "metadata": {},
   "source": [
    "As you can see, the number of unique patients in the dataset is less than the total number so there must be some overlap. For patients with multiple records, you'll want to make sure they do not show up in both training and test sets in order to avoid data leakage (covered later in this week's lectures).\n",
    "\n",
    "### 1.3 Data Labels\n",
    "\n",
    "Run the next two code cells to create a list of the names of each patient condition or disease. "
   ]
  },
  {
   "cell_type": "code",
   "execution_count": null,
   "metadata": {},
   "outputs": [],
   "source": [
    "columns = metadata_df.columns\n",
    "print(columns.values)"
   ]
  },
  {
   "cell_type": "code",
   "execution_count": null,
   "metadata": {},
   "outputs": [],
   "source": [
    "# Define actual labels (or classes)\n",
    "non_class_columns = ['image',\n",
    "                     'follow_up_no',\n",
    "                     'patient_id',\n",
    "                     'patient_age',\n",
    "                     'gender',\n",
    "                     'view_position']\n",
    "classes = [c for c in metadata_df.columns if c not in non_class_columns]\n",
    "\n",
    "# Get the total classes\n",
    "print(f\"There are {len(classes)} classes (or: labels)\")\n",
    "print(f\"This includes: {classes}\")"
   ]
  },
  {
   "cell_type": "code",
   "execution_count": null,
   "metadata": {
    "scrolled": true
   },
   "outputs": [],
   "source": [
    "# check how often each label occurs..."
   ]
  },
  {
   "attachments": {},
   "cell_type": "markdown",
   "metadata": {},
   "source": [
    "Have a look at the counts for the labels in each class above. Does this look like a balanced dataset?"
   ]
  },
  {
   "attachments": {},
   "cell_type": "markdown",
   "metadata": {},
   "source": [
    "### 1.4 Data Visualization\n",
    "\n",
    "Using the image names listed in the csv file, you can retrieve the image associated with each row of data in your dataframe. \n",
    "\n",
    "Run the cell below to visualize a random selection of images from the dataset."
   ]
  },
  {
   "cell_type": "code",
   "execution_count": null,
   "metadata": {},
   "outputs": [],
   "source": [
    "path_images = \"../data/ChestX_subset/images/\"\n",
    "\n",
    "# Pick 9 random images\n",
    "np.random.seed(1)\n",
    "random_images = np.random.choice(metadata_df.image, 9)\n",
    "\n",
    "\n",
    "# Adjust the size of your images\n",
    "plt.figure(figsize=(10,10))\n",
    "\n",
    "# Iterate and plot random images\n",
    "for i, filename in enumerate(random_images):\n",
    "    filename = filename\n",
    "    plt.subplot(3, 3, i + 1)\n",
    "    img = plt.imread(os.path.join(path_images, filename))\n",
    "    plt.imshow(img, cmap='gray')\n",
    "    plt.axis('off')\n",
    "    \n",
    "# Adjust subplot parameters to give specified padding\n",
    "plt.tight_layout()    "
   ]
  },
  {
   "attachments": {},
   "cell_type": "markdown",
   "metadata": {},
   "source": [
    "### 1.5 Investigating a Single Image\n",
    "\n",
    "Run the cell below to look at the first image in the dataset and print out some details of the image contents."
   ]
  },
  {
   "cell_type": "code",
   "execution_count": null,
   "metadata": {},
   "outputs": [],
   "source": [
    "# Get the first image that was listed in the train_df dataframe\n",
    "sample_img = metadata_df.image[0]\n",
    "raw_image = plt.imread(os.path.join(path_images, sample_img))\n",
    "\n",
    "plt.imshow(raw_image, cmap='gray')\n",
    "plt.colorbar()\n",
    "plt.title('Raw Chest X Ray Image')\n",
    "\n",
    "print(f\"The dimensions of the image are {raw_image.shape}.\")\n",
    "print(f\"The maximum pixel value is {raw_image.max():.4f} and the minimum is {raw_image.min():.4f}\")\n",
    "print(f\"The mean value of the pixels is {raw_image.mean():.4f} and the standard deviation is {raw_image.std():.4f}\")"
   ]
  },
  {
   "attachments": {},
   "cell_type": "markdown",
   "metadata": {},
   "source": [
    "### 1.6 Investigating Pixel Value Distribution\n",
    "\n",
    "Run the cell below to plot up the distribution of pixel values in the image shown above. "
   ]
  },
  {
   "cell_type": "code",
   "execution_count": null,
   "metadata": {},
   "outputs": [],
   "source": [
    "# Plot a histogram of the distribution of the pixels\n",
    "sb.distplot(raw_image.ravel(), \n",
    "            label=f'Pixel Mean {np.mean(raw_image):.4f} & Standard Deviation {np.std(raw_image):.4f}', kde=False)\n",
    "plt.legend(loc='upper center')\n",
    "plt.title('Distribution of Pixel Intensities in the Image')\n",
    "plt.xlabel('Pixel Intensity')\n",
    "plt.ylabel('# Pixels in Image')"
   ]
  },
  {
   "attachments": {},
   "cell_type": "markdown",
   "metadata": {},
   "source": [
    "# Split the data!"
   ]
  },
  {
   "cell_type": "code",
   "execution_count": null,
   "metadata": {},
   "outputs": [],
   "source": [
    "from sklearn.model_selection import train_test_split\n",
    "\n",
    "train_df, test_df = train_test_split(#...\n",
    "                                    )\n",
    "print(f\"Training set size: {train_df.shape}\")\n",
    "print(f\"Test set size: {test_df.shape}\")"
   ]
  },
  {
   "cell_type": "code",
   "execution_count": null,
   "metadata": {},
   "outputs": [],
   "source": [
    "# second split\n",
    "\n",
    "train_df, val_df = train_test_split(#...\n",
    "                                    )\n",
    "print(f\"Training set size: {train_df.shape}\")\n",
    "print(f\"Validation set size: {val_df.shape}\")\n",
    "print(f\"Test set size: {test_df.shape}\")"
   ]
  },
  {
   "cell_type": "code",
   "execution_count": null,
   "metadata": {},
   "outputs": [],
   "source": []
  },
  {
   "attachments": {},
   "cell_type": "markdown",
   "metadata": {},
   "source": [
    "## everything good?\n",
    "- leakage?\n"
   ]
  },
  {
   "attachments": {},
   "cell_type": "markdown",
   "metadata": {},
   "source": [
    "## 2. Image Preprocessing in Keras\n",
    "\n",
    "Before training, you'll first modify your images to be better suited for training a convolutional neural network. For this task you'll use the Keras [ImageDataGenerator](https://keras.io/preprocessing/image/) function to perform data preprocessing and data augmentation.\n",
    "\n",
    "Run the next two cells to import this function and create an image generator for preprocessing."
   ]
  },
  {
   "cell_type": "code",
   "execution_count": null,
   "metadata": {},
   "outputs": [],
   "source": [
    "# Import data generator from keras\n",
    "from tensorflow.keras.preprocessing.image import ImageDataGenerator"
   ]
  },
  {
   "cell_type": "code",
   "execution_count": null,
   "metadata": {},
   "outputs": [],
   "source": [
    "# Normalize images\n",
    "image_generator = ImageDataGenerator(\n",
    "    # what should the base generator do....?\n",
    ")"
   ]
  },
  {
   "cell_type": "code",
   "execution_count": null,
   "metadata": {},
   "outputs": [],
   "source": [
    "label_column=\"no_finding\"#\"mass\"#\n",
    "\n",
    "# Define the data generators\n",
    "train_generator = image_generator.flow_from_dataframe(\n",
    "        dataframe=train_df,\n",
    "        directory=path_images,\n",
    "        x_col=\"image\",\n",
    "        y_col=label_column,\n",
    "        target_size=(320, 320),\n",
    "        batch_size=32,\n",
    "        class_mode='raw',\n",
    "        color_mode=\"grayscale\")\n",
    "\n",
    "val_generator = image_generator.flow_from_dataframe(\n",
    "        dataframe=val_df,\n",
    "        directory=path_images,\n",
    "        x_col=\"image\",\n",
    "        y_col=label_column,\n",
    "        target_size=(320, 320),\n",
    "        batch_size=32,\n",
    "        class_mode='raw',\n",
    "        color_mode=\"grayscale\")"
   ]
  },
  {
   "attachments": {},
   "cell_type": "markdown",
   "metadata": {},
   "source": [
    "## Inspect generator results"
   ]
  },
  {
   "attachments": {},
   "cell_type": "markdown",
   "metadata": {},
   "source": [
    "## Try 2D convolutions\n",
    "- Simply try out different convolution kernels and see what they do to the image.\n",
    "- See also: https://en.wikipedia.org/wiki/Kernel_(image_processing)"
   ]
  },
  {
   "cell_type": "code",
   "execution_count": null,
   "metadata": {},
   "outputs": [],
   "source": [
    "import numpy as np\n",
    "from scipy import signal\n",
    "from PIL import Image\n",
    "import requests\n",
    "from io import BytesIO\n",
    "import matplotlib.pyplot as plt\n",
    "\n",
    "# Download the image from a URL\n",
    "response = requests.get('https://cdn.pixabay.com/photo/2023/04/20/03/18/lizard-7938887_1280.jpg')\n",
    "\n",
    "# Open the image file\n",
    "img = Image.open(BytesIO(response.content)).convert('L') # Convert image to grayscale\n",
    "img = np.array(img)\n",
    "\n",
    "plt.imshow(img, cmap=\"gray\")"
   ]
  },
  {
   "cell_type": "code",
   "execution_count": null,
   "metadata": {},
   "outputs": [],
   "source": [
    "# Define the 3x3 sharpening filter\n",
    "\n",
    "kernel = np.array([[0, -1, 0],\n",
    "                   [-1, 5,-1],\n",
    "                   [0, -1, 0]])\n",
    "\n",
    "# Apply the kernel to the image\n",
    "result = # compute a convolution...\n",
    "\n",
    "# Display the original and the resulting image\n",
    "plt.figure(figsize=(10,5))\n",
    "\n",
    "plt.subplot(121)\n",
    "plt.imshow(img, cmap=plt.cm.gray)\n",
    "plt.title('Original image')\n",
    "plt.axis('off')\n",
    "\n",
    "plt.subplot(122)\n",
    "plt.imshow(result, cmap=plt.cm.gray)\n",
    "plt.title('Image after applying the convolution')\n",
    "plt.axis('off')\n",
    "\n",
    "plt.show()"
   ]
  },
  {
   "cell_type": "code",
   "execution_count": null,
   "metadata": {},
   "outputs": [],
   "source": [
    "import tensorflow as tf"
   ]
  },
  {
   "cell_type": "code",
   "execution_count": null,
   "metadata": {},
   "outputs": [],
   "source": [
    "tf.__version__"
   ]
  },
  {
   "cell_type": "code",
   "execution_count": null,
   "metadata": {},
   "outputs": [],
   "source": [
    "import keras\n",
    "keras.__version__"
   ]
  },
  {
   "cell_type": "code",
   "execution_count": null,
   "metadata": {},
   "outputs": [],
   "source": [
    "\n",
    "from keras.layers import Input, Conv2D, MaxPooling2D, Flatten, Dense\n",
    "from keras.models import Model\n",
    "from keras.preprocessing.image import ImageDataGenerator\n"
   ]
  },
  {
   "cell_type": "code",
   "execution_count": null,
   "metadata": {},
   "outputs": [],
   "source": []
  },
  {
   "cell_type": "code",
   "execution_count": null,
   "metadata": {},
   "outputs": [],
   "source": [
    "fig, axes = plt.subplots(2, 1, figsize=(7, 9))\n",
    "\n",
    "axes[0].plot(history.history[\"loss\"], \"o-\")\n",
    "axes[0].plot(history.history[\"val_loss\"], \"o-\")\n",
    "axes[1].plot(history.history[\"accuracy\"], \"o-\")\n",
    "axes[1].plot(history.history[\"val_accuracy\"], \"o-\")"
   ]
  },
  {
   "cell_type": "code",
   "execution_count": null,
   "metadata": {},
   "outputs": [],
   "source": []
  }
 ],
 "metadata": {
  "kernelspec": {
   "display_name": "Python 3 (ipykernel)",
   "language": "python",
   "name": "python3"
  },
  "language_info": {
   "codemirror_mode": {
    "name": "ipython",
    "version": 3
   },
   "file_extension": ".py",
   "mimetype": "text/x-python",
   "name": "python",
   "nbconvert_exporter": "python",
   "pygments_lexer": "ipython3",
   "version": "3.9.16"
  }
 },
 "nbformat": 4,
 "nbformat_minor": 4
}
