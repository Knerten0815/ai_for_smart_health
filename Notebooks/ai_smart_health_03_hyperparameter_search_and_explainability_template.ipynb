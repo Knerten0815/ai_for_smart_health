{
 "cells": [
  {
   "attachments": {},
   "cell_type": "markdown",
   "metadata": {},
   "source": [
    "## 🧠💡 Intelligent Systems  for Smart Health 👨‍⚕👩‍⚕️🔬🌡️\n"
   ]
  },
  {
   "attachments": {},
   "cell_type": "markdown",
   "metadata": {},
   "source": [
    "# Finding hyperparameters and understanding models\n",
    "\n",
    "In the last weeks we trained linear models, decision tree and a random forest. In all those cases we were manually adjusting hyperparameters. The more complex our models get... the more inefficient this procedure becomes. So we will look at **grid search** and **random search** as two common techniques for (still fairly simple) hyperparameter searches.\n",
    "\n",
    "In the second part of this session we will then ask the question of how to make sense of the predictions we get from such an optimized machine learning model. Why does one patient get a good prognosis, and another one a bad one?\n",
    "In this context, we will look at the **feature importance** (for a random forest model) and and **SHAP**, a newer technique to interpret model predictions.\n",
    "\n",
    "We will (again) work with actual medical data in this notebook, namely the NHANES I epidemiology dataset (for a detailed description of this dataset you can check the [CDC Website](https://wwwn.cdc.gov/nchs/nhanes/nhefs/default.aspx/)).\n"
   ]
  },
  {
   "attachments": {},
   "cell_type": "markdown",
   "metadata": {
    "colab_type": "text",
    "id": "F6k2pItifWeK"
   },
   "source": [
    "<a name='import'></a>\n",
    "## Import Packages\n",
    "\n",
    "We'll first import all the common packages that we need for this assignment. \n",
    "\n",
    "- `shap` is a library that explains predictions made by machine learning models.\n",
    "- `sklearn` is one of the most popular machine learning libraries.\n",
    "- `itertools` allows us to conveniently manipulate iterable objects such as lists.\n",
    "- `pydotplus` is used together with `IPython.display.Image` to visualize graph structures such as decision trees.\n",
    "- `numpy` is a fundamental package for scientific computing in Python.\n",
    "- `pandas` is what we'll use to manipulate our data.\n",
    "- `seaborn` is a plotting library which has some convenient functions for visualizing missing data.\n",
    "- `matplotlib` is a plotting library."
   ]
  },
  {
   "cell_type": "code",
   "execution_count": 4,
   "metadata": {},
   "outputs": [],
   "source": [
    "#pip install pydotplus\n",
    "#pip install lifelines\n",
    "#pip install shap"
   ]
  },
  {
   "cell_type": "code",
   "execution_count": 5,
   "metadata": {
    "colab": {},
    "colab_type": "code",
    "id": "V5s0iQ82okBv"
   },
   "outputs": [],
   "source": [
    "import os\n",
    "#import shap\n",
    "import sklearn\n",
    "import itertools\n",
    "import pydotplus\n",
    "import numpy as np\n",
    "import pandas as pd\n",
    "import seaborn as sns\n",
    "import matplotlib.pyplot as plt\n",
    "\n",
    "from IPython.display import Image \n",
    "\n",
    "from sklearn.tree import export_graphviz\n",
    "from sklearn.tree import DecisionTreeClassifier\n",
    "from sklearn.ensemble import RandomForestClassifier\n",
    "from sklearn.model_selection import train_test_split\n",
    "from sklearn.experimental import enable_iterative_imputer\n",
    "from sklearn.impute import IterativeImputer, SimpleImputer"
   ]
  },
  {
   "attachments": {},
   "cell_type": "markdown",
   "metadata": {},
   "source": [
    "<a name='1'></a>\n",
    "## 1. The Dataset\n",
    "### Load and explore the data!\n",
    "\n",
    "In virtually all cases, we would first want to get an intuition on the data itself. Things like: What is in the data? How much data is there? Are there things missing? What might cause problems? Do we understand the type of data/features?\n",
    "\n",
    "With **pandas**, we usually can explore some key properties very rapidly, for instance with commands like\n",
    "\n",
    "- `data.head()`\n",
    "- `data.describe()`\n",
    "- `data.info()`\n",
    "\n",
    "### Some weird conventions:\n",
    "For some reason it became standard in the machine learning world to name the actual data `X` and the labels `y`. Even though I consider this a rather poor choice both from a math and from a code best practice point of view, we will stick to this in this notebook."
   ]
  },
  {
   "cell_type": "code",
   "execution_count": 6,
   "metadata": {},
   "outputs": [
    {
     "data": {
      "text/html": [
       "<div>\n",
       "<style scoped>\n",
       "    .dataframe tbody tr th:only-of-type {\n",
       "        vertical-align: middle;\n",
       "    }\n",
       "\n",
       "    .dataframe tbody tr th {\n",
       "        vertical-align: top;\n",
       "    }\n",
       "\n",
       "    .dataframe thead th {\n",
       "        text-align: right;\n",
       "    }\n",
       "</style>\n",
       "<table border=\"1\" class=\"dataframe\">\n",
       "  <thead>\n",
       "    <tr style=\"text-align: right;\">\n",
       "      <th></th>\n",
       "      <th>Age</th>\n",
       "      <th>Diastolic BP</th>\n",
       "      <th>Poverty index</th>\n",
       "      <th>Race</th>\n",
       "      <th>Red blood cells</th>\n",
       "      <th>Sedimentation rate</th>\n",
       "      <th>Serum Albumin</th>\n",
       "      <th>Serum Cholesterol</th>\n",
       "      <th>Serum Iron</th>\n",
       "      <th>Serum Magnesium</th>\n",
       "      <th>Serum Protein</th>\n",
       "      <th>Sex</th>\n",
       "      <th>Systolic BP</th>\n",
       "      <th>TIBC</th>\n",
       "      <th>TS</th>\n",
       "      <th>White blood cells</th>\n",
       "      <th>BMI</th>\n",
       "      <th>Pulse pressure</th>\n",
       "    </tr>\n",
       "  </thead>\n",
       "  <tbody>\n",
       "    <tr>\n",
       "      <th>0</th>\n",
       "      <td>35.0</td>\n",
       "      <td>92.0</td>\n",
       "      <td>126.0</td>\n",
       "      <td>2.0</td>\n",
       "      <td>77.7</td>\n",
       "      <td>12.0</td>\n",
       "      <td>5.0</td>\n",
       "      <td>165.0</td>\n",
       "      <td>135.0</td>\n",
       "      <td>1.37</td>\n",
       "      <td>7.6</td>\n",
       "      <td>2.0</td>\n",
       "      <td>142.0</td>\n",
       "      <td>323.0</td>\n",
       "      <td>41.8</td>\n",
       "      <td>5.8</td>\n",
       "      <td>31.109434</td>\n",
       "      <td>50.0</td>\n",
       "    </tr>\n",
       "    <tr>\n",
       "      <th>1</th>\n",
       "      <td>71.0</td>\n",
       "      <td>78.0</td>\n",
       "      <td>210.0</td>\n",
       "      <td>2.0</td>\n",
       "      <td>77.7</td>\n",
       "      <td>37.0</td>\n",
       "      <td>4.0</td>\n",
       "      <td>298.0</td>\n",
       "      <td>89.0</td>\n",
       "      <td>1.38</td>\n",
       "      <td>6.4</td>\n",
       "      <td>2.0</td>\n",
       "      <td>156.0</td>\n",
       "      <td>331.0</td>\n",
       "      <td>26.9</td>\n",
       "      <td>5.3</td>\n",
       "      <td>32.362572</td>\n",
       "      <td>78.0</td>\n",
       "    </tr>\n",
       "    <tr>\n",
       "      <th>2</th>\n",
       "      <td>74.0</td>\n",
       "      <td>86.0</td>\n",
       "      <td>999.0</td>\n",
       "      <td>2.0</td>\n",
       "      <td>77.7</td>\n",
       "      <td>31.0</td>\n",
       "      <td>3.8</td>\n",
       "      <td>222.0</td>\n",
       "      <td>115.0</td>\n",
       "      <td>1.37</td>\n",
       "      <td>7.4</td>\n",
       "      <td>2.0</td>\n",
       "      <td>170.0</td>\n",
       "      <td>299.0</td>\n",
       "      <td>38.5</td>\n",
       "      <td>8.1</td>\n",
       "      <td>25.388497</td>\n",
       "      <td>84.0</td>\n",
       "    </tr>\n",
       "    <tr>\n",
       "      <th>3</th>\n",
       "      <td>64.0</td>\n",
       "      <td>92.0</td>\n",
       "      <td>385.0</td>\n",
       "      <td>1.0</td>\n",
       "      <td>77.7</td>\n",
       "      <td>30.0</td>\n",
       "      <td>4.3</td>\n",
       "      <td>265.0</td>\n",
       "      <td>94.0</td>\n",
       "      <td>1.97</td>\n",
       "      <td>7.3</td>\n",
       "      <td>2.0</td>\n",
       "      <td>172.0</td>\n",
       "      <td>349.0</td>\n",
       "      <td>26.9</td>\n",
       "      <td>6.7</td>\n",
       "      <td>26.446610</td>\n",
       "      <td>80.0</td>\n",
       "    </tr>\n",
       "    <tr>\n",
       "      <th>4</th>\n",
       "      <td>32.0</td>\n",
       "      <td>70.0</td>\n",
       "      <td>183.0</td>\n",
       "      <td>2.0</td>\n",
       "      <td>77.7</td>\n",
       "      <td>18.0</td>\n",
       "      <td>5.0</td>\n",
       "      <td>203.0</td>\n",
       "      <td>192.0</td>\n",
       "      <td>1.35</td>\n",
       "      <td>7.3</td>\n",
       "      <td>1.0</td>\n",
       "      <td>128.0</td>\n",
       "      <td>386.0</td>\n",
       "      <td>49.7</td>\n",
       "      <td>8.1</td>\n",
       "      <td>20.354684</td>\n",
       "      <td>58.0</td>\n",
       "    </tr>\n",
       "  </tbody>\n",
       "</table>\n",
       "</div>"
      ],
      "text/plain": [
       "    Age  Diastolic BP  Poverty index  Race  Red blood cells  \\\n",
       "0  35.0          92.0          126.0   2.0             77.7   \n",
       "1  71.0          78.0          210.0   2.0             77.7   \n",
       "2  74.0          86.0          999.0   2.0             77.7   \n",
       "3  64.0          92.0          385.0   1.0             77.7   \n",
       "4  32.0          70.0          183.0   2.0             77.7   \n",
       "\n",
       "   Sedimentation rate  Serum Albumin  Serum Cholesterol  Serum Iron  \\\n",
       "0                12.0            5.0              165.0       135.0   \n",
       "1                37.0            4.0              298.0        89.0   \n",
       "2                31.0            3.8              222.0       115.0   \n",
       "3                30.0            4.3              265.0        94.0   \n",
       "4                18.0            5.0              203.0       192.0   \n",
       "\n",
       "   Serum Magnesium  Serum Protein  Sex  Systolic BP   TIBC    TS  \\\n",
       "0             1.37            7.6  2.0        142.0  323.0  41.8   \n",
       "1             1.38            6.4  2.0        156.0  331.0  26.9   \n",
       "2             1.37            7.4  2.0        170.0  299.0  38.5   \n",
       "3             1.97            7.3  2.0        172.0  349.0  26.9   \n",
       "4             1.35            7.3  1.0        128.0  386.0  49.7   \n",
       "\n",
       "   White blood cells        BMI  Pulse pressure  \n",
       "0                5.8  31.109434            50.0  \n",
       "1                5.3  32.362572            78.0  \n",
       "2                8.1  25.388497            84.0  \n",
       "3                6.7  26.446610            80.0  \n",
       "4                8.1  20.354684            58.0  "
      ]
     },
     "execution_count": 6,
     "metadata": {},
     "output_type": "execute_result"
    }
   ],
   "source": [
    "path_data = \"./Datasets/\"\n",
    "\n",
    "X = pd.read_csv(os.path.join(path_data, \"NHANESI_subset_X.csv\"))\n",
    "y = pd.read_csv(os.path.join(path_data, \"NHANESI_subset_y.csv\"))\n",
    "\n",
    "X = X.drop('Unnamed: 0', axis=1)\n",
    "y = y.drop('Unnamed: 0', axis=1)\n",
    "\n",
    "X.head()"
   ]
  },
  {
   "cell_type": "code",
   "execution_count": 7,
   "metadata": {},
   "outputs": [
    {
     "data": {
      "text/html": [
       "<div>\n",
       "<style scoped>\n",
       "    .dataframe tbody tr th:only-of-type {\n",
       "        vertical-align: middle;\n",
       "    }\n",
       "\n",
       "    .dataframe tbody tr th {\n",
       "        vertical-align: top;\n",
       "    }\n",
       "\n",
       "    .dataframe thead th {\n",
       "        text-align: right;\n",
       "    }\n",
       "</style>\n",
       "<table border=\"1\" class=\"dataframe\">\n",
       "  <thead>\n",
       "    <tr style=\"text-align: right;\">\n",
       "      <th></th>\n",
       "      <th>Age</th>\n",
       "      <th>Diastolic BP</th>\n",
       "      <th>Poverty index</th>\n",
       "      <th>Race</th>\n",
       "      <th>Red blood cells</th>\n",
       "      <th>Sedimentation rate</th>\n",
       "      <th>Serum Albumin</th>\n",
       "      <th>Serum Cholesterol</th>\n",
       "      <th>Serum Iron</th>\n",
       "      <th>Serum Magnesium</th>\n",
       "      <th>Serum Protein</th>\n",
       "      <th>Sex</th>\n",
       "      <th>Systolic BP</th>\n",
       "      <th>TIBC</th>\n",
       "      <th>TS</th>\n",
       "      <th>White blood cells</th>\n",
       "      <th>BMI</th>\n",
       "      <th>Pulse pressure</th>\n",
       "      <th>time</th>\n",
       "    </tr>\n",
       "  </thead>\n",
       "  <tbody>\n",
       "    <tr>\n",
       "      <th>0</th>\n",
       "      <td>35.0</td>\n",
       "      <td>92.0</td>\n",
       "      <td>126.0</td>\n",
       "      <td>2.0</td>\n",
       "      <td>77.7</td>\n",
       "      <td>12.0</td>\n",
       "      <td>5.0</td>\n",
       "      <td>165.0</td>\n",
       "      <td>135.0</td>\n",
       "      <td>1.37</td>\n",
       "      <td>7.6</td>\n",
       "      <td>2.0</td>\n",
       "      <td>142.0</td>\n",
       "      <td>323.0</td>\n",
       "      <td>41.8</td>\n",
       "      <td>5.8</td>\n",
       "      <td>31.109434</td>\n",
       "      <td>50.0</td>\n",
       "      <td>15.274658</td>\n",
       "    </tr>\n",
       "    <tr>\n",
       "      <th>1</th>\n",
       "      <td>71.0</td>\n",
       "      <td>78.0</td>\n",
       "      <td>210.0</td>\n",
       "      <td>2.0</td>\n",
       "      <td>77.7</td>\n",
       "      <td>37.0</td>\n",
       "      <td>4.0</td>\n",
       "      <td>298.0</td>\n",
       "      <td>89.0</td>\n",
       "      <td>1.38</td>\n",
       "      <td>6.4</td>\n",
       "      <td>2.0</td>\n",
       "      <td>156.0</td>\n",
       "      <td>331.0</td>\n",
       "      <td>26.9</td>\n",
       "      <td>5.3</td>\n",
       "      <td>32.362572</td>\n",
       "      <td>78.0</td>\n",
       "      <td>11.586073</td>\n",
       "    </tr>\n",
       "    <tr>\n",
       "      <th>2</th>\n",
       "      <td>74.0</td>\n",
       "      <td>86.0</td>\n",
       "      <td>999.0</td>\n",
       "      <td>2.0</td>\n",
       "      <td>77.7</td>\n",
       "      <td>31.0</td>\n",
       "      <td>3.8</td>\n",
       "      <td>222.0</td>\n",
       "      <td>115.0</td>\n",
       "      <td>1.37</td>\n",
       "      <td>7.4</td>\n",
       "      <td>2.0</td>\n",
       "      <td>170.0</td>\n",
       "      <td>299.0</td>\n",
       "      <td>38.5</td>\n",
       "      <td>8.1</td>\n",
       "      <td>25.388497</td>\n",
       "      <td>84.0</td>\n",
       "      <td>8.149087</td>\n",
       "    </tr>\n",
       "    <tr>\n",
       "      <th>3</th>\n",
       "      <td>64.0</td>\n",
       "      <td>92.0</td>\n",
       "      <td>385.0</td>\n",
       "      <td>1.0</td>\n",
       "      <td>77.7</td>\n",
       "      <td>30.0</td>\n",
       "      <td>4.3</td>\n",
       "      <td>265.0</td>\n",
       "      <td>94.0</td>\n",
       "      <td>1.97</td>\n",
       "      <td>7.3</td>\n",
       "      <td>2.0</td>\n",
       "      <td>172.0</td>\n",
       "      <td>349.0</td>\n",
       "      <td>26.9</td>\n",
       "      <td>6.7</td>\n",
       "      <td>26.446610</td>\n",
       "      <td>80.0</td>\n",
       "      <td>-21.094292</td>\n",
       "    </tr>\n",
       "    <tr>\n",
       "      <th>4</th>\n",
       "      <td>32.0</td>\n",
       "      <td>70.0</td>\n",
       "      <td>183.0</td>\n",
       "      <td>2.0</td>\n",
       "      <td>77.7</td>\n",
       "      <td>18.0</td>\n",
       "      <td>5.0</td>\n",
       "      <td>203.0</td>\n",
       "      <td>192.0</td>\n",
       "      <td>1.35</td>\n",
       "      <td>7.3</td>\n",
       "      <td>1.0</td>\n",
       "      <td>128.0</td>\n",
       "      <td>386.0</td>\n",
       "      <td>49.7</td>\n",
       "      <td>8.1</td>\n",
       "      <td>20.354684</td>\n",
       "      <td>58.0</td>\n",
       "      <td>-0.000000</td>\n",
       "    </tr>\n",
       "  </tbody>\n",
       "</table>\n",
       "</div>"
      ],
      "text/plain": [
       "    Age  Diastolic BP  Poverty index  Race  Red blood cells  \\\n",
       "0  35.0          92.0          126.0   2.0             77.7   \n",
       "1  71.0          78.0          210.0   2.0             77.7   \n",
       "2  74.0          86.0          999.0   2.0             77.7   \n",
       "3  64.0          92.0          385.0   1.0             77.7   \n",
       "4  32.0          70.0          183.0   2.0             77.7   \n",
       "\n",
       "   Sedimentation rate  Serum Albumin  Serum Cholesterol  Serum Iron  \\\n",
       "0                12.0            5.0              165.0       135.0   \n",
       "1                37.0            4.0              298.0        89.0   \n",
       "2                31.0            3.8              222.0       115.0   \n",
       "3                30.0            4.3              265.0        94.0   \n",
       "4                18.0            5.0              203.0       192.0   \n",
       "\n",
       "   Serum Magnesium  Serum Protein  Sex  Systolic BP   TIBC    TS  \\\n",
       "0             1.37            7.6  2.0        142.0  323.0  41.8   \n",
       "1             1.38            6.4  2.0        156.0  331.0  26.9   \n",
       "2             1.37            7.4  2.0        170.0  299.0  38.5   \n",
       "3             1.97            7.3  2.0        172.0  349.0  26.9   \n",
       "4             1.35            7.3  1.0        128.0  386.0  49.7   \n",
       "\n",
       "   White blood cells        BMI  Pulse pressure       time  \n",
       "0                5.8  31.109434            50.0  15.274658  \n",
       "1                5.3  32.362572            78.0  11.586073  \n",
       "2                8.1  25.388497            84.0   8.149087  \n",
       "3                6.7  26.446610            80.0 -21.094292  \n",
       "4                8.1  20.354684            58.0  -0.000000  "
      ]
     },
     "execution_count": 7,
     "metadata": {},
     "output_type": "execute_result"
    }
   ],
   "source": [
    "data = X.copy()\n",
    "data[\"time\"] = y\n",
    "data = data.dropna(axis=\"rows\")\n",
    "data.head()"
   ]
  },
  {
   "cell_type": "code",
   "execution_count": 8,
   "metadata": {},
   "outputs": [],
   "source": [
    "threshold = 10  # we focus on >10 year risk\n",
    "\n",
    "data[\"death\"] = np.ones(len(data))\n",
    "\n",
    "# remove all people which haven't died within the study\n",
    "data.loc[data[\"time\"] < 0, \"death\"] = 0\n",
    "\n",
    "# remove data which we can (and should) not use for predicting >10 year risk\n",
    "mask = (data[\"time\"] > 0) | (data[\"time\"] <= -threshold)\n",
    "data = data[mask]\n",
    "\n",
    "# Create data/label split --> X, y\n",
    "X = data.drop([\"death\", \"time\"], axis='columns')\n",
    "y = (data.time < threshold) & (data.time > 0)  # died within 0 and threshold years"
   ]
  },
  {
   "cell_type": "code",
   "execution_count": 9,
   "metadata": {},
   "outputs": [
    {
     "data": {
      "text/plain": [
       "((8233, 18), (8233,))"
      ]
     },
     "execution_count": 9,
     "metadata": {},
     "output_type": "execute_result"
    }
   ],
   "source": [
    "X.shape, y.shape"
   ]
  },
  {
   "cell_type": "code",
   "execution_count": 10,
   "metadata": {},
   "outputs": [],
   "source": [
    "X_dev, X_test, y_dev, y_test = train_test_split(X, y, test_size=0.2,\n",
    "                                                random_state=10)"
   ]
  },
  {
   "cell_type": "code",
   "execution_count": 11,
   "metadata": {},
   "outputs": [],
   "source": [
    "X_train, X_val, y_train, y_val = train_test_split(X_dev, y_dev,\n",
    "                                                  test_size=0.25, random_state=10)"
   ]
  },
  {
   "cell_type": "code",
   "execution_count": 12,
   "metadata": {},
   "outputs": [],
   "source": [
    "# in this context we will also use the c-index to evaluate our models\n",
    "import lifelines\n",
    "\n",
    "def cindex(y_true, scores):\n",
    "    return lifelines.utils.concordance_index(y_true, scores)"
   ]
  },
  {
   "attachments": {},
   "cell_type": "markdown",
   "metadata": {},
   "source": [
    "<a name='2'></a>\n",
    "## 2. Random Forests\n",
    "\n",
    "As we saw last time, a single decision tree is prone to overfitting. To solve this problem, you can try **random forests**, which combine predictions from many different trees to create a robust classifier. \n",
    "\n",
    "As before, we will use scikit-learn to build a random forest for the data. We will use the default hyperparameters.\n",
    "\n",
    "Using Scikit-Learn we can train such a model using the `RandomForestClassifier()` class and, again, the `fit()` method to train the model."
   ]
  },
  {
   "cell_type": "code",
   "execution_count": 13,
   "metadata": {},
   "outputs": [
    {
     "data": {
      "text/html": [
       "<style>#sk-container-id-1 {color: black;background-color: white;}#sk-container-id-1 pre{padding: 0;}#sk-container-id-1 div.sk-toggleable {background-color: white;}#sk-container-id-1 label.sk-toggleable__label {cursor: pointer;display: block;width: 100%;margin-bottom: 0;padding: 0.3em;box-sizing: border-box;text-align: center;}#sk-container-id-1 label.sk-toggleable__label-arrow:before {content: \"▸\";float: left;margin-right: 0.25em;color: #696969;}#sk-container-id-1 label.sk-toggleable__label-arrow:hover:before {color: black;}#sk-container-id-1 div.sk-estimator:hover label.sk-toggleable__label-arrow:before {color: black;}#sk-container-id-1 div.sk-toggleable__content {max-height: 0;max-width: 0;overflow: hidden;text-align: left;background-color: #f0f8ff;}#sk-container-id-1 div.sk-toggleable__content pre {margin: 0.2em;color: black;border-radius: 0.25em;background-color: #f0f8ff;}#sk-container-id-1 input.sk-toggleable__control:checked~div.sk-toggleable__content {max-height: 200px;max-width: 100%;overflow: auto;}#sk-container-id-1 input.sk-toggleable__control:checked~label.sk-toggleable__label-arrow:before {content: \"▾\";}#sk-container-id-1 div.sk-estimator input.sk-toggleable__control:checked~label.sk-toggleable__label {background-color: #d4ebff;}#sk-container-id-1 div.sk-label input.sk-toggleable__control:checked~label.sk-toggleable__label {background-color: #d4ebff;}#sk-container-id-1 input.sk-hidden--visually {border: 0;clip: rect(1px 1px 1px 1px);clip: rect(1px, 1px, 1px, 1px);height: 1px;margin: -1px;overflow: hidden;padding: 0;position: absolute;width: 1px;}#sk-container-id-1 div.sk-estimator {font-family: monospace;background-color: #f0f8ff;border: 1px dotted black;border-radius: 0.25em;box-sizing: border-box;margin-bottom: 0.5em;}#sk-container-id-1 div.sk-estimator:hover {background-color: #d4ebff;}#sk-container-id-1 div.sk-parallel-item::after {content: \"\";width: 100%;border-bottom: 1px solid gray;flex-grow: 1;}#sk-container-id-1 div.sk-label:hover label.sk-toggleable__label {background-color: #d4ebff;}#sk-container-id-1 div.sk-serial::before {content: \"\";position: absolute;border-left: 1px solid gray;box-sizing: border-box;top: 0;bottom: 0;left: 50%;z-index: 0;}#sk-container-id-1 div.sk-serial {display: flex;flex-direction: column;align-items: center;background-color: white;padding-right: 0.2em;padding-left: 0.2em;position: relative;}#sk-container-id-1 div.sk-item {position: relative;z-index: 1;}#sk-container-id-1 div.sk-parallel {display: flex;align-items: stretch;justify-content: center;background-color: white;position: relative;}#sk-container-id-1 div.sk-item::before, #sk-container-id-1 div.sk-parallel-item::before {content: \"\";position: absolute;border-left: 1px solid gray;box-sizing: border-box;top: 0;bottom: 0;left: 50%;z-index: -1;}#sk-container-id-1 div.sk-parallel-item {display: flex;flex-direction: column;z-index: 1;position: relative;background-color: white;}#sk-container-id-1 div.sk-parallel-item:first-child::after {align-self: flex-end;width: 50%;}#sk-container-id-1 div.sk-parallel-item:last-child::after {align-self: flex-start;width: 50%;}#sk-container-id-1 div.sk-parallel-item:only-child::after {width: 0;}#sk-container-id-1 div.sk-dashed-wrapped {border: 1px dashed gray;margin: 0 0.4em 0.5em 0.4em;box-sizing: border-box;padding-bottom: 0.4em;background-color: white;}#sk-container-id-1 div.sk-label label {font-family: monospace;font-weight: bold;display: inline-block;line-height: 1.2em;}#sk-container-id-1 div.sk-label-container {text-align: center;}#sk-container-id-1 div.sk-container {/* jupyter's `normalize.less` sets `[hidden] { display: none; }` but bootstrap.min.css set `[hidden] { display: none !important; }` so we also need the `!important` here to be able to override the default hidden behavior on the sphinx rendered scikit-learn.org. See: https://github.com/scikit-learn/scikit-learn/issues/21755 */display: inline-block !important;position: relative;}#sk-container-id-1 div.sk-text-repr-fallback {display: none;}</style><div id=\"sk-container-id-1\" class=\"sk-top-container\"><div class=\"sk-text-repr-fallback\"><pre>RandomForestClassifier(n_estimators=10)</pre><b>In a Jupyter environment, please rerun this cell to show the HTML representation or trust the notebook. <br />On GitHub, the HTML representation is unable to render, please try loading this page with nbviewer.org.</b></div><div class=\"sk-container\" hidden><div class=\"sk-item\"><div class=\"sk-estimator sk-toggleable\"><input class=\"sk-toggleable__control sk-hidden--visually\" id=\"sk-estimator-id-1\" type=\"checkbox\" checked><label for=\"sk-estimator-id-1\" class=\"sk-toggleable__label sk-toggleable__label-arrow\">RandomForestClassifier</label><div class=\"sk-toggleable__content\"><pre>RandomForestClassifier(n_estimators=10)</pre></div></div></div></div></div>"
      ],
      "text/plain": [
       "RandomForestClassifier(n_estimators=10)"
      ]
     },
     "execution_count": 13,
     "metadata": {},
     "output_type": "execute_result"
    }
   ],
   "source": [
    "# please train a random forest model using the RandomForestClassifier() class\n",
    "# start with 10 trees --> n_estimators=10\n",
    "forest = RandomForestClassifier(n_estimators=10)\n",
    "forest.fit(X_train, y_train)"
   ]
  },
  {
   "cell_type": "code",
   "execution_count": 14,
   "metadata": {},
   "outputs": [
    {
     "name": "stdout",
     "output_type": "stream",
     "text": [
      "Train C-Index: 0.9996166957699892\n",
      "Val C-Index: 0.7819164056466146\n"
     ]
    }
   ],
   "source": [
    "y_train_preds = forest.predict_proba(X_train)[:, 1]\n",
    "print(f\"Train C-Index: {cindex(y_train.values, y_train_preds)}\")\n",
    "\n",
    "y_val_preds = forest.predict_proba(X_val)[:, 1]\n",
    "print(f\"Val C-Index: {cindex(y_val.values, y_val_preds)}\")"
   ]
  },
  {
   "attachments": {},
   "cell_type": "markdown",
   "metadata": {},
   "source": [
    "Training a random forest with the default hyperparameters results in a model that has better predictive performance than individual decision trees as in the previous section, but this model is overfitting.\n",
    "\n",
    "We therefore need to tune (or optimize) the hyperparameters, to find a model that both has good predictive performance and minimizes overfitting.\n",
    "\n",
    "The hyperparameters we choose to adjust will be:\n",
    "\n",
    "- `n_estimators`: the number of trees used in the forest.\n",
    "- `max_depth`: the maximum depth of each tree.\n",
    "- `min_samples_leaf`: the minimum number (if `int`) or proportion (if `float`) of samples in a leaf.\n",
    "\n",
    "\n",
    "<a name='ex1'></a>\n",
    "### Exercise 1: try to find a set of better hyperparameters!\n"
   ]
  },
  {
   "cell_type": "code",
   "execution_count": 15,
   "metadata": {},
   "outputs": [
    {
     "data": {
      "text/html": [
       "<style>#sk-container-id-2 {color: black;background-color: white;}#sk-container-id-2 pre{padding: 0;}#sk-container-id-2 div.sk-toggleable {background-color: white;}#sk-container-id-2 label.sk-toggleable__label {cursor: pointer;display: block;width: 100%;margin-bottom: 0;padding: 0.3em;box-sizing: border-box;text-align: center;}#sk-container-id-2 label.sk-toggleable__label-arrow:before {content: \"▸\";float: left;margin-right: 0.25em;color: #696969;}#sk-container-id-2 label.sk-toggleable__label-arrow:hover:before {color: black;}#sk-container-id-2 div.sk-estimator:hover label.sk-toggleable__label-arrow:before {color: black;}#sk-container-id-2 div.sk-toggleable__content {max-height: 0;max-width: 0;overflow: hidden;text-align: left;background-color: #f0f8ff;}#sk-container-id-2 div.sk-toggleable__content pre {margin: 0.2em;color: black;border-radius: 0.25em;background-color: #f0f8ff;}#sk-container-id-2 input.sk-toggleable__control:checked~div.sk-toggleable__content {max-height: 200px;max-width: 100%;overflow: auto;}#sk-container-id-2 input.sk-toggleable__control:checked~label.sk-toggleable__label-arrow:before {content: \"▾\";}#sk-container-id-2 div.sk-estimator input.sk-toggleable__control:checked~label.sk-toggleable__label {background-color: #d4ebff;}#sk-container-id-2 div.sk-label input.sk-toggleable__control:checked~label.sk-toggleable__label {background-color: #d4ebff;}#sk-container-id-2 input.sk-hidden--visually {border: 0;clip: rect(1px 1px 1px 1px);clip: rect(1px, 1px, 1px, 1px);height: 1px;margin: -1px;overflow: hidden;padding: 0;position: absolute;width: 1px;}#sk-container-id-2 div.sk-estimator {font-family: monospace;background-color: #f0f8ff;border: 1px dotted black;border-radius: 0.25em;box-sizing: border-box;margin-bottom: 0.5em;}#sk-container-id-2 div.sk-estimator:hover {background-color: #d4ebff;}#sk-container-id-2 div.sk-parallel-item::after {content: \"\";width: 100%;border-bottom: 1px solid gray;flex-grow: 1;}#sk-container-id-2 div.sk-label:hover label.sk-toggleable__label {background-color: #d4ebff;}#sk-container-id-2 div.sk-serial::before {content: \"\";position: absolute;border-left: 1px solid gray;box-sizing: border-box;top: 0;bottom: 0;left: 50%;z-index: 0;}#sk-container-id-2 div.sk-serial {display: flex;flex-direction: column;align-items: center;background-color: white;padding-right: 0.2em;padding-left: 0.2em;position: relative;}#sk-container-id-2 div.sk-item {position: relative;z-index: 1;}#sk-container-id-2 div.sk-parallel {display: flex;align-items: stretch;justify-content: center;background-color: white;position: relative;}#sk-container-id-2 div.sk-item::before, #sk-container-id-2 div.sk-parallel-item::before {content: \"\";position: absolute;border-left: 1px solid gray;box-sizing: border-box;top: 0;bottom: 0;left: 50%;z-index: -1;}#sk-container-id-2 div.sk-parallel-item {display: flex;flex-direction: column;z-index: 1;position: relative;background-color: white;}#sk-container-id-2 div.sk-parallel-item:first-child::after {align-self: flex-end;width: 50%;}#sk-container-id-2 div.sk-parallel-item:last-child::after {align-self: flex-start;width: 50%;}#sk-container-id-2 div.sk-parallel-item:only-child::after {width: 0;}#sk-container-id-2 div.sk-dashed-wrapped {border: 1px dashed gray;margin: 0 0.4em 0.5em 0.4em;box-sizing: border-box;padding-bottom: 0.4em;background-color: white;}#sk-container-id-2 div.sk-label label {font-family: monospace;font-weight: bold;display: inline-block;line-height: 1.2em;}#sk-container-id-2 div.sk-label-container {text-align: center;}#sk-container-id-2 div.sk-container {/* jupyter's `normalize.less` sets `[hidden] { display: none; }` but bootstrap.min.css set `[hidden] { display: none !important; }` so we also need the `!important` here to be able to override the default hidden behavior on the sphinx rendered scikit-learn.org. See: https://github.com/scikit-learn/scikit-learn/issues/21755 */display: inline-block !important;position: relative;}#sk-container-id-2 div.sk-text-repr-fallback {display: none;}</style><div id=\"sk-container-id-2\" class=\"sk-top-container\"><div class=\"sk-text-repr-fallback\"><pre>RandomForestClassifier(max_depth=5, n_estimators=40, random_state=0)</pre><b>In a Jupyter environment, please rerun this cell to show the HTML representation or trust the notebook. <br />On GitHub, the HTML representation is unable to render, please try loading this page with nbviewer.org.</b></div><div class=\"sk-container\" hidden><div class=\"sk-item\"><div class=\"sk-estimator sk-toggleable\"><input class=\"sk-toggleable__control sk-hidden--visually\" id=\"sk-estimator-id-2\" type=\"checkbox\" checked><label for=\"sk-estimator-id-2\" class=\"sk-toggleable__label sk-toggleable__label-arrow\">RandomForestClassifier</label><div class=\"sk-toggleable__content\"><pre>RandomForestClassifier(max_depth=5, n_estimators=40, random_state=0)</pre></div></div></div></div></div>"
      ],
      "text/plain": [
       "RandomForestClassifier(max_depth=5, n_estimators=40, random_state=0)"
      ]
     },
     "execution_count": 15,
     "metadata": {},
     "output_type": "execute_result"
    }
   ],
   "source": [
    "# train some models using different hyperparameters\n",
    "forest = RandomForestClassifier(n_estimators=40, max_depth=5, random_state=0)\n",
    "forest.fit(X_train, y_train)"
   ]
  },
  {
   "cell_type": "code",
   "execution_count": 16,
   "metadata": {},
   "outputs": [
    {
     "name": "stdout",
     "output_type": "stream",
     "text": [
      "Train C-Index: 0.8838913751095384\n",
      "Val C-Index: 0.8425150712262937\n"
     ]
    }
   ],
   "source": [
    "y_train_preds = forest.predict_proba(X_train)[:, 1]\n",
    "print(f\"Train C-Index: {cindex(y_train.values, y_train_preds)}\")\n",
    "\n",
    "y_val_preds = forest.predict_proba(X_val)[:, 1]\n",
    "print(f\"Val C-Index: {cindex(y_val.values, y_val_preds)}\")"
   ]
  },
  {
   "attachments": {},
   "cell_type": "markdown",
   "metadata": {},
   "source": [
    "<a name='3'></a>\n",
    "## 3.Systematic search for hyperparameters: grid search\n",
    "\n",
    "The approach we implement to tune the hyperparameters is known as a grid search:\n",
    "\n",
    "- We define a set of possible values for each of the target hyperparameters.\n",
    "\n",
    "- A model is trained and evaluated for every possible combination of hyperparameters.\n",
    "\n",
    "- The best performing set of hyperparameters is returned.\n",
    "\n",
    "The cell below implements a hyperparameter grid search, using the C-Index to evaluate each tested model."
   ]
  },
  {
   "cell_type": "code",
   "execution_count": 17,
   "metadata": {
    "scrolled": true
   },
   "outputs": [
    {
     "name": "stdout",
     "output_type": "stream",
     "text": [
      "Fitting 5 folds for each of 36 candidates, totalling 180 fits\n",
      "[CV] END ....max_depth=2, min_samples_leaf=1, n_estimators=2; total time=   0.0s\n",
      "[CV] END ....max_depth=2, min_samples_leaf=1, n_estimators=2; total time=   0.0s\n",
      "[CV] END ....max_depth=2, min_samples_leaf=1, n_estimators=2; total time=   0.0s\n",
      "[CV] END ....max_depth=2, min_samples_leaf=1, n_estimators=2; total time=   0.0s\n",
      "[CV] END ....max_depth=2, min_samples_leaf=1, n_estimators=2; total time=   0.0s\n",
      "[CV] END ...max_depth=2, min_samples_leaf=1, n_estimators=10; total time=   0.0s\n",
      "[CV] END ...max_depth=2, min_samples_leaf=1, n_estimators=10; total time=   0.0s\n",
      "[CV] END ...max_depth=2, min_samples_leaf=1, n_estimators=10; total time=   0.0s\n",
      "[CV] END ...max_depth=2, min_samples_leaf=1, n_estimators=10; total time=   0.0s\n",
      "[CV] END ...max_depth=2, min_samples_leaf=1, n_estimators=10; total time=   0.0s\n",
      "[CV] END ..max_depth=2, min_samples_leaf=1, n_estimators=100; total time=   0.2s\n",
      "[CV] END ..max_depth=2, min_samples_leaf=1, n_estimators=100; total time=   0.2s\n",
      "[CV] END ..max_depth=2, min_samples_leaf=1, n_estimators=100; total time=   0.3s\n",
      "[CV] END ..max_depth=2, min_samples_leaf=1, n_estimators=100; total time=   0.2s\n",
      "[CV] END ..max_depth=2, min_samples_leaf=1, n_estimators=100; total time=   0.3s\n",
      "[CV] END ....max_depth=2, min_samples_leaf=5, n_estimators=2; total time=   0.0s\n",
      "[CV] END ....max_depth=2, min_samples_leaf=5, n_estimators=2; total time=   0.0s\n",
      "[CV] END ....max_depth=2, min_samples_leaf=5, n_estimators=2; total time=   0.0s\n",
      "[CV] END ....max_depth=2, min_samples_leaf=5, n_estimators=2; total time=   0.0s\n",
      "[CV] END ....max_depth=2, min_samples_leaf=5, n_estimators=2; total time=   0.0s\n",
      "[CV] END ...max_depth=2, min_samples_leaf=5, n_estimators=10; total time=   0.0s\n",
      "[CV] END ...max_depth=2, min_samples_leaf=5, n_estimators=10; total time=   0.0s\n",
      "[CV] END ...max_depth=2, min_samples_leaf=5, n_estimators=10; total time=   0.0s\n",
      "[CV] END ...max_depth=2, min_samples_leaf=5, n_estimators=10; total time=   0.0s\n",
      "[CV] END ...max_depth=2, min_samples_leaf=5, n_estimators=10; total time=   0.0s\n",
      "[CV] END ..max_depth=2, min_samples_leaf=5, n_estimators=100; total time=   0.2s\n",
      "[CV] END ..max_depth=2, min_samples_leaf=5, n_estimators=100; total time=   0.2s\n",
      "[CV] END ..max_depth=2, min_samples_leaf=5, n_estimators=100; total time=   0.3s\n",
      "[CV] END ..max_depth=2, min_samples_leaf=5, n_estimators=100; total time=   0.2s\n",
      "[CV] END ..max_depth=2, min_samples_leaf=5, n_estimators=100; total time=   0.3s\n",
      "[CV] END ...max_depth=2, min_samples_leaf=10, n_estimators=2; total time=   0.0s\n",
      "[CV] END ...max_depth=2, min_samples_leaf=10, n_estimators=2; total time=   0.0s\n",
      "[CV] END ...max_depth=2, min_samples_leaf=10, n_estimators=2; total time=   0.0s\n",
      "[CV] END ...max_depth=2, min_samples_leaf=10, n_estimators=2; total time=   0.0s\n",
      "[CV] END ...max_depth=2, min_samples_leaf=10, n_estimators=2; total time=   0.0s\n",
      "[CV] END ..max_depth=2, min_samples_leaf=10, n_estimators=10; total time=   0.0s\n",
      "[CV] END ..max_depth=2, min_samples_leaf=10, n_estimators=10; total time=   0.0s\n",
      "[CV] END ..max_depth=2, min_samples_leaf=10, n_estimators=10; total time=   0.0s\n",
      "[CV] END ..max_depth=2, min_samples_leaf=10, n_estimators=10; total time=   0.0s\n",
      "[CV] END ..max_depth=2, min_samples_leaf=10, n_estimators=10; total time=   0.0s\n",
      "[CV] END .max_depth=2, min_samples_leaf=10, n_estimators=100; total time=   0.3s\n",
      "[CV] END .max_depth=2, min_samples_leaf=10, n_estimators=100; total time=   0.4s\n",
      "[CV] END .max_depth=2, min_samples_leaf=10, n_estimators=100; total time=   0.3s\n",
      "[CV] END .max_depth=2, min_samples_leaf=10, n_estimators=100; total time=   0.5s\n",
      "[CV] END .max_depth=2, min_samples_leaf=10, n_estimators=100; total time=   0.3s\n",
      "[CV] END ....max_depth=8, min_samples_leaf=1, n_estimators=2; total time=   0.0s\n",
      "[CV] END ....max_depth=8, min_samples_leaf=1, n_estimators=2; total time=   0.0s\n",
      "[CV] END ....max_depth=8, min_samples_leaf=1, n_estimators=2; total time=   0.0s\n",
      "[CV] END ....max_depth=8, min_samples_leaf=1, n_estimators=2; total time=   0.0s\n",
      "[CV] END ....max_depth=8, min_samples_leaf=1, n_estimators=2; total time=   0.0s\n",
      "[CV] END ...max_depth=8, min_samples_leaf=1, n_estimators=10; total time=   0.0s\n",
      "[CV] END ...max_depth=8, min_samples_leaf=1, n_estimators=10; total time=   0.0s\n",
      "[CV] END ...max_depth=8, min_samples_leaf=1, n_estimators=10; total time=   0.0s\n",
      "[CV] END ...max_depth=8, min_samples_leaf=1, n_estimators=10; total time=   0.0s\n",
      "[CV] END ...max_depth=8, min_samples_leaf=1, n_estimators=10; total time=   0.0s\n",
      "[CV] END ..max_depth=8, min_samples_leaf=1, n_estimators=100; total time=   0.6s\n",
      "[CV] END ..max_depth=8, min_samples_leaf=1, n_estimators=100; total time=   1.0s\n",
      "[CV] END ..max_depth=8, min_samples_leaf=1, n_estimators=100; total time=   1.3s\n",
      "[CV] END ..max_depth=8, min_samples_leaf=1, n_estimators=100; total time=   0.9s\n",
      "[CV] END ..max_depth=8, min_samples_leaf=1, n_estimators=100; total time=   1.0s\n",
      "[CV] END ....max_depth=8, min_samples_leaf=5, n_estimators=2; total time=   0.0s\n",
      "[CV] END ....max_depth=8, min_samples_leaf=5, n_estimators=2; total time=   0.0s\n",
      "[CV] END ....max_depth=8, min_samples_leaf=5, n_estimators=2; total time=   0.0s\n",
      "[CV] END ....max_depth=8, min_samples_leaf=5, n_estimators=2; total time=   0.0s\n",
      "[CV] END ....max_depth=8, min_samples_leaf=5, n_estimators=2; total time=   0.0s\n",
      "[CV] END ...max_depth=8, min_samples_leaf=5, n_estimators=10; total time=   0.0s\n",
      "[CV] END ...max_depth=8, min_samples_leaf=5, n_estimators=10; total time=   0.0s\n",
      "[CV] END ...max_depth=8, min_samples_leaf=5, n_estimators=10; total time=   0.0s\n",
      "[CV] END ...max_depth=8, min_samples_leaf=5, n_estimators=10; total time=   0.0s\n",
      "[CV] END ...max_depth=8, min_samples_leaf=5, n_estimators=10; total time=   0.0s\n",
      "[CV] END ..max_depth=8, min_samples_leaf=5, n_estimators=100; total time=   1.1s\n",
      "[CV] END ..max_depth=8, min_samples_leaf=5, n_estimators=100; total time=   1.1s\n",
      "[CV] END ..max_depth=8, min_samples_leaf=5, n_estimators=100; total time=   1.0s\n",
      "[CV] END ..max_depth=8, min_samples_leaf=5, n_estimators=100; total time=   1.3s\n",
      "[CV] END ..max_depth=8, min_samples_leaf=5, n_estimators=100; total time=   1.2s\n",
      "[CV] END ...max_depth=8, min_samples_leaf=10, n_estimators=2; total time=   0.0s\n",
      "[CV] END ...max_depth=8, min_samples_leaf=10, n_estimators=2; total time=   0.0s\n",
      "[CV] END ...max_depth=8, min_samples_leaf=10, n_estimators=2; total time=   0.0s\n",
      "[CV] END ...max_depth=8, min_samples_leaf=10, n_estimators=2; total time=   0.0s\n",
      "[CV] END ...max_depth=8, min_samples_leaf=10, n_estimators=2; total time=   0.0s\n",
      "[CV] END ..max_depth=8, min_samples_leaf=10, n_estimators=10; total time=   0.1s\n",
      "[CV] END ..max_depth=8, min_samples_leaf=10, n_estimators=10; total time=   0.0s\n",
      "[CV] END ..max_depth=8, min_samples_leaf=10, n_estimators=10; total time=   0.1s\n",
      "[CV] END ..max_depth=8, min_samples_leaf=10, n_estimators=10; total time=   0.1s\n",
      "[CV] END ..max_depth=8, min_samples_leaf=10, n_estimators=10; total time=   0.0s\n",
      "[CV] END .max_depth=8, min_samples_leaf=10, n_estimators=100; total time=   1.2s\n",
      "[CV] END .max_depth=8, min_samples_leaf=10, n_estimators=100; total time=   1.3s\n",
      "[CV] END .max_depth=8, min_samples_leaf=10, n_estimators=100; total time=   1.4s\n",
      "[CV] END .max_depth=8, min_samples_leaf=10, n_estimators=100; total time=   1.1s\n",
      "[CV] END .max_depth=8, min_samples_leaf=10, n_estimators=100; total time=   1.0s\n",
      "[CV] END ...max_depth=12, min_samples_leaf=1, n_estimators=2; total time=   0.0s\n",
      "[CV] END ...max_depth=12, min_samples_leaf=1, n_estimators=2; total time=   0.0s\n",
      "[CV] END ...max_depth=12, min_samples_leaf=1, n_estimators=2; total time=   0.0s\n",
      "[CV] END ...max_depth=12, min_samples_leaf=1, n_estimators=2; total time=   0.0s\n",
      "[CV] END ...max_depth=12, min_samples_leaf=1, n_estimators=2; total time=   0.0s\n",
      "[CV] END ..max_depth=12, min_samples_leaf=1, n_estimators=10; total time=   0.0s\n",
      "[CV] END ..max_depth=12, min_samples_leaf=1, n_estimators=10; total time=   0.0s\n",
      "[CV] END ..max_depth=12, min_samples_leaf=1, n_estimators=10; total time=   0.1s\n",
      "[CV] END ..max_depth=12, min_samples_leaf=1, n_estimators=10; total time=   0.1s\n",
      "[CV] END ..max_depth=12, min_samples_leaf=1, n_estimators=10; total time=   0.1s\n",
      "[CV] END .max_depth=12, min_samples_leaf=1, n_estimators=100; total time=   1.7s\n",
      "[CV] END .max_depth=12, min_samples_leaf=1, n_estimators=100; total time=   1.5s\n",
      "[CV] END .max_depth=12, min_samples_leaf=1, n_estimators=100; total time=   1.7s\n",
      "[CV] END .max_depth=12, min_samples_leaf=1, n_estimators=100; total time=   1.3s\n",
      "[CV] END .max_depth=12, min_samples_leaf=1, n_estimators=100; total time=   1.4s\n",
      "[CV] END ...max_depth=12, min_samples_leaf=5, n_estimators=2; total time=   0.0s\n",
      "[CV] END ...max_depth=12, min_samples_leaf=5, n_estimators=2; total time=   0.0s\n",
      "[CV] END ...max_depth=12, min_samples_leaf=5, n_estimators=2; total time=   0.0s\n",
      "[CV] END ...max_depth=12, min_samples_leaf=5, n_estimators=2; total time=   0.0s\n",
      "[CV] END ...max_depth=12, min_samples_leaf=5, n_estimators=2; total time=   0.0s\n",
      "[CV] END ..max_depth=12, min_samples_leaf=5, n_estimators=10; total time=   0.0s\n",
      "[CV] END ..max_depth=12, min_samples_leaf=5, n_estimators=10; total time=   0.1s\n",
      "[CV] END ..max_depth=12, min_samples_leaf=5, n_estimators=10; total time=   0.0s\n",
      "[CV] END ..max_depth=12, min_samples_leaf=5, n_estimators=10; total time=   0.0s\n",
      "[CV] END ..max_depth=12, min_samples_leaf=5, n_estimators=10; total time=   0.1s\n",
      "[CV] END .max_depth=12, min_samples_leaf=5, n_estimators=100; total time=   1.1s\n",
      "[CV] END .max_depth=12, min_samples_leaf=5, n_estimators=100; total time=   1.2s\n",
      "[CV] END .max_depth=12, min_samples_leaf=5, n_estimators=100; total time=   1.2s\n",
      "[CV] END .max_depth=12, min_samples_leaf=5, n_estimators=100; total time=   1.2s\n",
      "[CV] END .max_depth=12, min_samples_leaf=5, n_estimators=100; total time=   1.1s\n",
      "[CV] END ..max_depth=12, min_samples_leaf=10, n_estimators=2; total time=   0.0s\n",
      "[CV] END ..max_depth=12, min_samples_leaf=10, n_estimators=2; total time=   0.0s\n",
      "[CV] END ..max_depth=12, min_samples_leaf=10, n_estimators=2; total time=   0.0s\n",
      "[CV] END ..max_depth=12, min_samples_leaf=10, n_estimators=2; total time=   0.0s\n",
      "[CV] END ..max_depth=12, min_samples_leaf=10, n_estimators=2; total time=   0.0s\n",
      "[CV] END .max_depth=12, min_samples_leaf=10, n_estimators=10; total time=   0.0s\n",
      "[CV] END .max_depth=12, min_samples_leaf=10, n_estimators=10; total time=   0.0s\n",
      "[CV] END .max_depth=12, min_samples_leaf=10, n_estimators=10; total time=   0.0s\n",
      "[CV] END .max_depth=12, min_samples_leaf=10, n_estimators=10; total time=   0.0s\n",
      "[CV] END .max_depth=12, min_samples_leaf=10, n_estimators=10; total time=   0.0s\n",
      "[CV] END max_depth=12, min_samples_leaf=10, n_estimators=100; total time=   1.0s\n",
      "[CV] END max_depth=12, min_samples_leaf=10, n_estimators=100; total time=   1.0s\n",
      "[CV] END max_depth=12, min_samples_leaf=10, n_estimators=100; total time=   1.4s\n",
      "[CV] END max_depth=12, min_samples_leaf=10, n_estimators=100; total time=   1.5s\n",
      "[CV] END max_depth=12, min_samples_leaf=10, n_estimators=100; total time=   1.1s\n",
      "[CV] END ...max_depth=20, min_samples_leaf=1, n_estimators=2; total time=   0.0s\n",
      "[CV] END ...max_depth=20, min_samples_leaf=1, n_estimators=2; total time=   0.0s\n",
      "[CV] END ...max_depth=20, min_samples_leaf=1, n_estimators=2; total time=   0.0s\n",
      "[CV] END ...max_depth=20, min_samples_leaf=1, n_estimators=2; total time=   0.0s\n",
      "[CV] END ...max_depth=20, min_samples_leaf=1, n_estimators=2; total time=   0.0s\n",
      "[CV] END ..max_depth=20, min_samples_leaf=1, n_estimators=10; total time=   0.2s\n",
      "[CV] END ..max_depth=20, min_samples_leaf=1, n_estimators=10; total time=   0.1s\n",
      "[CV] END ..max_depth=20, min_samples_leaf=1, n_estimators=10; total time=   0.1s\n",
      "[CV] END ..max_depth=20, min_samples_leaf=1, n_estimators=10; total time=   0.1s\n",
      "[CV] END ..max_depth=20, min_samples_leaf=1, n_estimators=10; total time=   0.1s\n",
      "[CV] END .max_depth=20, min_samples_leaf=1, n_estimators=100; total time=   1.9s\n",
      "[CV] END .max_depth=20, min_samples_leaf=1, n_estimators=100; total time=   1.9s\n",
      "[CV] END .max_depth=20, min_samples_leaf=1, n_estimators=100; total time=   2.6s\n",
      "[CV] END .max_depth=20, min_samples_leaf=1, n_estimators=100; total time=   2.7s\n",
      "[CV] END .max_depth=20, min_samples_leaf=1, n_estimators=100; total time=   2.1s\n",
      "[CV] END ...max_depth=20, min_samples_leaf=5, n_estimators=2; total time=   0.0s\n",
      "[CV] END ...max_depth=20, min_samples_leaf=5, n_estimators=2; total time=   0.0s\n",
      "[CV] END ...max_depth=20, min_samples_leaf=5, n_estimators=2; total time=   0.0s\n",
      "[CV] END ...max_depth=20, min_samples_leaf=5, n_estimators=2; total time=   0.0s\n",
      "[CV] END ...max_depth=20, min_samples_leaf=5, n_estimators=2; total time=   0.0s\n",
      "[CV] END ..max_depth=20, min_samples_leaf=5, n_estimators=10; total time=   0.1s\n",
      "[CV] END ..max_depth=20, min_samples_leaf=5, n_estimators=10; total time=   0.1s\n",
      "[CV] END ..max_depth=20, min_samples_leaf=5, n_estimators=10; total time=   0.1s\n",
      "[CV] END ..max_depth=20, min_samples_leaf=5, n_estimators=10; total time=   0.1s\n",
      "[CV] END ..max_depth=20, min_samples_leaf=5, n_estimators=10; total time=   0.1s\n",
      "[CV] END .max_depth=20, min_samples_leaf=5, n_estimators=100; total time=   1.7s\n",
      "[CV] END .max_depth=20, min_samples_leaf=5, n_estimators=100; total time=   1.6s\n",
      "[CV] END .max_depth=20, min_samples_leaf=5, n_estimators=100; total time=   1.6s\n",
      "[CV] END .max_depth=20, min_samples_leaf=5, n_estimators=100; total time=   1.5s\n",
      "[CV] END .max_depth=20, min_samples_leaf=5, n_estimators=100; total time=   1.8s\n",
      "[CV] END ..max_depth=20, min_samples_leaf=10, n_estimators=2; total time=   0.0s\n",
      "[CV] END ..max_depth=20, min_samples_leaf=10, n_estimators=2; total time=   0.0s\n",
      "[CV] END ..max_depth=20, min_samples_leaf=10, n_estimators=2; total time=   0.0s\n",
      "[CV] END ..max_depth=20, min_samples_leaf=10, n_estimators=2; total time=   0.0s\n",
      "[CV] END ..max_depth=20, min_samples_leaf=10, n_estimators=2; total time=   0.0s\n",
      "[CV] END .max_depth=20, min_samples_leaf=10, n_estimators=10; total time=   0.0s\n",
      "[CV] END .max_depth=20, min_samples_leaf=10, n_estimators=10; total time=   0.0s\n",
      "[CV] END .max_depth=20, min_samples_leaf=10, n_estimators=10; total time=   0.1s\n",
      "[CV] END .max_depth=20, min_samples_leaf=10, n_estimators=10; total time=   0.1s\n",
      "[CV] END .max_depth=20, min_samples_leaf=10, n_estimators=10; total time=   0.0s\n",
      "[CV] END max_depth=20, min_samples_leaf=10, n_estimators=100; total time=   1.5s\n",
      "[CV] END max_depth=20, min_samples_leaf=10, n_estimators=100; total time=   1.4s\n",
      "[CV] END max_depth=20, min_samples_leaf=10, n_estimators=100; total time=   1.1s\n",
      "[CV] END max_depth=20, min_samples_leaf=10, n_estimators=100; total time=   1.4s\n",
      "[CV] END max_depth=20, min_samples_leaf=10, n_estimators=100; total time=   1.1s\n"
     ]
    },
    {
     "data": {
      "text/html": [
       "<style>#sk-container-id-3 {color: black;background-color: white;}#sk-container-id-3 pre{padding: 0;}#sk-container-id-3 div.sk-toggleable {background-color: white;}#sk-container-id-3 label.sk-toggleable__label {cursor: pointer;display: block;width: 100%;margin-bottom: 0;padding: 0.3em;box-sizing: border-box;text-align: center;}#sk-container-id-3 label.sk-toggleable__label-arrow:before {content: \"▸\";float: left;margin-right: 0.25em;color: #696969;}#sk-container-id-3 label.sk-toggleable__label-arrow:hover:before {color: black;}#sk-container-id-3 div.sk-estimator:hover label.sk-toggleable__label-arrow:before {color: black;}#sk-container-id-3 div.sk-toggleable__content {max-height: 0;max-width: 0;overflow: hidden;text-align: left;background-color: #f0f8ff;}#sk-container-id-3 div.sk-toggleable__content pre {margin: 0.2em;color: black;border-radius: 0.25em;background-color: #f0f8ff;}#sk-container-id-3 input.sk-toggleable__control:checked~div.sk-toggleable__content {max-height: 200px;max-width: 100%;overflow: auto;}#sk-container-id-3 input.sk-toggleable__control:checked~label.sk-toggleable__label-arrow:before {content: \"▾\";}#sk-container-id-3 div.sk-estimator input.sk-toggleable__control:checked~label.sk-toggleable__label {background-color: #d4ebff;}#sk-container-id-3 div.sk-label input.sk-toggleable__control:checked~label.sk-toggleable__label {background-color: #d4ebff;}#sk-container-id-3 input.sk-hidden--visually {border: 0;clip: rect(1px 1px 1px 1px);clip: rect(1px, 1px, 1px, 1px);height: 1px;margin: -1px;overflow: hidden;padding: 0;position: absolute;width: 1px;}#sk-container-id-3 div.sk-estimator {font-family: monospace;background-color: #f0f8ff;border: 1px dotted black;border-radius: 0.25em;box-sizing: border-box;margin-bottom: 0.5em;}#sk-container-id-3 div.sk-estimator:hover {background-color: #d4ebff;}#sk-container-id-3 div.sk-parallel-item::after {content: \"\";width: 100%;border-bottom: 1px solid gray;flex-grow: 1;}#sk-container-id-3 div.sk-label:hover label.sk-toggleable__label {background-color: #d4ebff;}#sk-container-id-3 div.sk-serial::before {content: \"\";position: absolute;border-left: 1px solid gray;box-sizing: border-box;top: 0;bottom: 0;left: 50%;z-index: 0;}#sk-container-id-3 div.sk-serial {display: flex;flex-direction: column;align-items: center;background-color: white;padding-right: 0.2em;padding-left: 0.2em;position: relative;}#sk-container-id-3 div.sk-item {position: relative;z-index: 1;}#sk-container-id-3 div.sk-parallel {display: flex;align-items: stretch;justify-content: center;background-color: white;position: relative;}#sk-container-id-3 div.sk-item::before, #sk-container-id-3 div.sk-parallel-item::before {content: \"\";position: absolute;border-left: 1px solid gray;box-sizing: border-box;top: 0;bottom: 0;left: 50%;z-index: -1;}#sk-container-id-3 div.sk-parallel-item {display: flex;flex-direction: column;z-index: 1;position: relative;background-color: white;}#sk-container-id-3 div.sk-parallel-item:first-child::after {align-self: flex-end;width: 50%;}#sk-container-id-3 div.sk-parallel-item:last-child::after {align-self: flex-start;width: 50%;}#sk-container-id-3 div.sk-parallel-item:only-child::after {width: 0;}#sk-container-id-3 div.sk-dashed-wrapped {border: 1px dashed gray;margin: 0 0.4em 0.5em 0.4em;box-sizing: border-box;padding-bottom: 0.4em;background-color: white;}#sk-container-id-3 div.sk-label label {font-family: monospace;font-weight: bold;display: inline-block;line-height: 1.2em;}#sk-container-id-3 div.sk-label-container {text-align: center;}#sk-container-id-3 div.sk-container {/* jupyter's `normalize.less` sets `[hidden] { display: none; }` but bootstrap.min.css set `[hidden] { display: none !important; }` so we also need the `!important` here to be able to override the default hidden behavior on the sphinx rendered scikit-learn.org. See: https://github.com/scikit-learn/scikit-learn/issues/21755 */display: inline-block !important;position: relative;}#sk-container-id-3 div.sk-text-repr-fallback {display: none;}</style><div id=\"sk-container-id-3\" class=\"sk-top-container\"><div class=\"sk-text-repr-fallback\"><pre>GridSearchCV(estimator=RandomForestClassifier(),\n",
       "             param_grid={&#x27;max_depth&#x27;: [2, 8, 12, 20],\n",
       "                         &#x27;min_samples_leaf&#x27;: [1, 5, 10],\n",
       "                         &#x27;n_estimators&#x27;: [2, 10, 100]},\n",
       "             verbose=2)</pre><b>In a Jupyter environment, please rerun this cell to show the HTML representation or trust the notebook. <br />On GitHub, the HTML representation is unable to render, please try loading this page with nbviewer.org.</b></div><div class=\"sk-container\" hidden><div class=\"sk-item sk-dashed-wrapped\"><div class=\"sk-label-container\"><div class=\"sk-label sk-toggleable\"><input class=\"sk-toggleable__control sk-hidden--visually\" id=\"sk-estimator-id-3\" type=\"checkbox\" ><label for=\"sk-estimator-id-3\" class=\"sk-toggleable__label sk-toggleable__label-arrow\">GridSearchCV</label><div class=\"sk-toggleable__content\"><pre>GridSearchCV(estimator=RandomForestClassifier(),\n",
       "             param_grid={&#x27;max_depth&#x27;: [2, 8, 12, 20],\n",
       "                         &#x27;min_samples_leaf&#x27;: [1, 5, 10],\n",
       "                         &#x27;n_estimators&#x27;: [2, 10, 100]},\n",
       "             verbose=2)</pre></div></div></div><div class=\"sk-parallel\"><div class=\"sk-parallel-item\"><div class=\"sk-item\"><div class=\"sk-label-container\"><div class=\"sk-label sk-toggleable\"><input class=\"sk-toggleable__control sk-hidden--visually\" id=\"sk-estimator-id-4\" type=\"checkbox\" ><label for=\"sk-estimator-id-4\" class=\"sk-toggleable__label sk-toggleable__label-arrow\">estimator: RandomForestClassifier</label><div class=\"sk-toggleable__content\"><pre>RandomForestClassifier()</pre></div></div></div><div class=\"sk-serial\"><div class=\"sk-item\"><div class=\"sk-estimator sk-toggleable\"><input class=\"sk-toggleable__control sk-hidden--visually\" id=\"sk-estimator-id-5\" type=\"checkbox\" ><label for=\"sk-estimator-id-5\" class=\"sk-toggleable__label sk-toggleable__label-arrow\">RandomForestClassifier</label><div class=\"sk-toggleable__content\"><pre>RandomForestClassifier()</pre></div></div></div></div></div></div></div></div></div></div>"
      ],
      "text/plain": [
       "GridSearchCV(estimator=RandomForestClassifier(),\n",
       "             param_grid={'max_depth': [2, 8, 12, 20],\n",
       "                         'min_samples_leaf': [1, 5, 10],\n",
       "                         'n_estimators': [2, 10, 100]},\n",
       "             verbose=2)"
      ]
     },
     "execution_count": 17,
     "metadata": {},
     "output_type": "execute_result"
    }
   ],
   "source": [
    "from sklearn.model_selection import GridSearchCV\n",
    "\n",
    "parameters = {\"max_depth\": [2, 8, 12, 20],\n",
    "              \"min_samples_leaf\": [1, 5, 10],\n",
    "              \"n_estimators\": [2, 10, 100]\n",
    "              }\n",
    "\n",
    "forest = RandomForestClassifier()\n",
    "grid_search = GridSearchCV(forest, parameters, verbose=2)\n",
    "grid_search.fit(X_train, y_train)"
   ]
  },
  {
   "cell_type": "code",
   "execution_count": 18,
   "metadata": {},
   "outputs": [
    {
     "data": {
      "text/plain": [
       "{'max_depth': 12, 'min_samples_leaf': 1, 'n_estimators': 100}"
      ]
     },
     "execution_count": 18,
     "metadata": {},
     "output_type": "execute_result"
    }
   ],
   "source": [
    "grid_search.best_params_"
   ]
  },
  {
   "cell_type": "code",
   "execution_count": 19,
   "metadata": {},
   "outputs": [
    {
     "data": {
      "image/png": "[encoded data removed]",
      "text/plain": [
       "<Figure size 1000x600 with 1 Axes>"
      ]
     },
     "metadata": {},
     "output_type": "display_data"
    }
   ],
   "source": [
    "import matplotlib.pyplot as plt\n",
    "\n",
    "# Collect grid search results\n",
    "cv_results = grid_search.cv_results_\n",
    "mean_test_scores = cv_results['mean_test_score']\n",
    "params = cv_results['params']\n",
    "\n",
    "# Prepare data for plotting\n",
    "scores_array = np.array(mean_test_scores).reshape(len(parameters['max_depth']),\n",
    "                                                  len(parameters['min_samples_leaf']),\n",
    "                                                  len(parameters['n_estimators']))\n",
    "\n",
    "# Create a line plot for each n_estimators\n",
    "fig, ax = plt.subplots(figsize=(10, 6))\n",
    "\n",
    "\n",
    "for k, n_estimators in enumerate(parameters['n_estimators']):\n",
    "    scores_for_n_estimators = scores_array[:, :, k].T\n",
    "    for i, min_samples_leaf in enumerate(parameters['min_samples_leaf']):\n",
    "        ax.plot(parameters['max_depth'], scores_for_n_estimators[i],\n",
    "                marker='o', linestyle='--', label=f'n_estimators: {n_estimators}, min_samples_leaf: {min_samples_leaf}')\n",
    "\n",
    "ax.set_title('Grid Search Results')\n",
    "ax.set_xlabel('Max Depth')\n",
    "ax.set_ylabel('Mean Test Score')\n",
    "ax.legend(loc='best')\n",
    "\n",
    "plt.show()"
   ]
  },
  {
   "attachments": {},
   "cell_type": "markdown",
   "metadata": {},
   "source": [
    "## Random Search\n",
    "A common alternative to the simple grid search is a more randomized search. The version that is implemented in Scikit-learn is a bit of a hybrid. It can be seen as a randomized search within a grid."
   ]
  },
  {
   "cell_type": "code",
   "execution_count": 20,
   "metadata": {
    "scrolled": true
   },
   "outputs": [
    {
     "name": "stdout",
     "output_type": "stream",
     "text": [
      "Fitting 5 folds for each of 20 candidates, totalling 100 fits\n",
      "[CV] END ...max_depth=12, min_samples_leaf=7, n_estimators=2; total time=   0.0s\n",
      "[CV] END ...max_depth=12, min_samples_leaf=7, n_estimators=2; total time=   0.0s\n",
      "[CV] END ...max_depth=12, min_samples_leaf=7, n_estimators=2; total time=   0.0s\n",
      "[CV] END ...max_depth=12, min_samples_leaf=7, n_estimators=2; total time=   0.0s\n",
      "[CV] END ...max_depth=12, min_samples_leaf=7, n_estimators=2; total time=   0.0s\n",
      "[CV] END ..max_depth=20, min_samples_leaf=3, n_estimators=10; total time=   0.1s\n",
      "[CV] END ..max_depth=20, min_samples_leaf=3, n_estimators=10; total time=   0.1s\n",
      "[CV] END ..max_depth=20, min_samples_leaf=3, n_estimators=10; total time=   0.1s\n",
      "[CV] END ..max_depth=20, min_samples_leaf=3, n_estimators=10; total time=   0.1s\n",
      "[CV] END ..max_depth=20, min_samples_leaf=3, n_estimators=10; total time=   0.1s\n",
      "[CV] END ..max_depth=12, min_samples_leaf=7, n_estimators=10; total time=   0.0s\n",
      "[CV] END ..max_depth=12, min_samples_leaf=7, n_estimators=10; total time=   0.0s\n",
      "[CV] END ..max_depth=12, min_samples_leaf=7, n_estimators=10; total time=   0.0s\n",
      "[CV] END ..max_depth=12, min_samples_leaf=7, n_estimators=10; total time=   0.0s\n",
      "[CV] END ..max_depth=12, min_samples_leaf=7, n_estimators=10; total time=   0.1s\n",
      "[CV] END ..max_depth=18, min_samples_leaf=10, n_estimators=2; total time=   0.0s\n",
      "[CV] END ..max_depth=18, min_samples_leaf=10, n_estimators=2; total time=   0.0s\n",
      "[CV] END ..max_depth=18, min_samples_leaf=10, n_estimators=2; total time=   0.0s\n",
      "[CV] END ..max_depth=18, min_samples_leaf=10, n_estimators=2; total time=   0.0s\n",
      "[CV] END ..max_depth=18, min_samples_leaf=10, n_estimators=2; total time=   0.0s\n",
      "[CV] END .max_depth=20, min_samples_leaf=1, n_estimators=100; total time=   1.6s\n",
      "[CV] END .max_depth=20, min_samples_leaf=1, n_estimators=100; total time=   1.7s\n",
      "[CV] END .max_depth=20, min_samples_leaf=1, n_estimators=100; total time=   2.1s\n",
      "[CV] END .max_depth=20, min_samples_leaf=1, n_estimators=100; total time=   2.0s\n",
      "[CV] END .max_depth=20, min_samples_leaf=1, n_estimators=100; total time=   1.8s\n",
      "[CV] END ...max_depth=14, min_samples_leaf=3, n_estimators=2; total time=   0.0s\n",
      "[CV] END ...max_depth=14, min_samples_leaf=3, n_estimators=2; total time=   0.0s\n",
      "[CV] END ...max_depth=14, min_samples_leaf=3, n_estimators=2; total time=   0.0s\n",
      "[CV] END ...max_depth=14, min_samples_leaf=3, n_estimators=2; total time=   0.0s\n",
      "[CV] END ...max_depth=14, min_samples_leaf=3, n_estimators=2; total time=   0.0s\n",
      "[CV] END .max_depth=20, min_samples_leaf=10, n_estimators=10; total time=   0.1s\n",
      "[CV] END .max_depth=20, min_samples_leaf=10, n_estimators=10; total time=   0.1s\n",
      "[CV] END .max_depth=20, min_samples_leaf=10, n_estimators=10; total time=   0.0s\n",
      "[CV] END .max_depth=20, min_samples_leaf=10, n_estimators=10; total time=   0.0s\n",
      "[CV] END .max_depth=20, min_samples_leaf=10, n_estimators=10; total time=   0.0s\n",
      "[CV] END ..max_depth=8, min_samples_leaf=1, n_estimators=100; total time=   1.3s\n",
      "[CV] END ..max_depth=8, min_samples_leaf=1, n_estimators=100; total time=   1.2s\n",
      "[CV] END ..max_depth=8, min_samples_leaf=1, n_estimators=100; total time=   1.3s\n",
      "[CV] END ..max_depth=8, min_samples_leaf=1, n_estimators=100; total time=   1.3s\n",
      "[CV] END ..max_depth=8, min_samples_leaf=1, n_estimators=100; total time=   1.0s\n",
      "[CV] END ..max_depth=8, min_samples_leaf=7, n_estimators=200; total time=   2.2s\n",
      "[CV] END ..max_depth=8, min_samples_leaf=7, n_estimators=200; total time=   2.1s\n",
      "[CV] END ..max_depth=8, min_samples_leaf=7, n_estimators=200; total time=   2.2s\n",
      "[CV] END ..max_depth=8, min_samples_leaf=7, n_estimators=200; total time=   2.1s\n",
      "[CV] END ..max_depth=8, min_samples_leaf=7, n_estimators=200; total time=   2.3s\n",
      "[CV] END ...max_depth=2, min_samples_leaf=5, n_estimators=10; total time=   0.0s\n",
      "[CV] END ...max_depth=2, min_samples_leaf=5, n_estimators=10; total time=   0.0s\n",
      "[CV] END ...max_depth=2, min_samples_leaf=5, n_estimators=10; total time=   0.0s\n",
      "[CV] END ...max_depth=2, min_samples_leaf=5, n_estimators=10; total time=   0.0s\n",
      "[CV] END ...max_depth=2, min_samples_leaf=5, n_estimators=10; total time=   0.0s\n",
      "[CV] END ..max_depth=8, min_samples_leaf=3, n_estimators=100; total time=   0.9s\n",
      "[CV] END ..max_depth=8, min_samples_leaf=3, n_estimators=100; total time=   1.1s\n",
      "[CV] END ..max_depth=8, min_samples_leaf=3, n_estimators=100; total time=   1.1s\n",
      "[CV] END ..max_depth=8, min_samples_leaf=3, n_estimators=100; total time=   1.3s\n",
      "[CV] END ..max_depth=8, min_samples_leaf=3, n_estimators=100; total time=   1.1s\n",
      "[CV] END .max_depth=20, min_samples_leaf=7, n_estimators=150; total time=   2.4s\n",
      "[CV] END .max_depth=20, min_samples_leaf=7, n_estimators=150; total time=   2.4s\n",
      "[CV] END .max_depth=20, min_samples_leaf=7, n_estimators=150; total time=   2.0s\n",
      "[CV] END .max_depth=20, min_samples_leaf=7, n_estimators=150; total time=   1.7s\n",
      "[CV] END .max_depth=20, min_samples_leaf=7, n_estimators=150; total time=   1.8s\n",
      "[CV] END .max_depth=20, min_samples_leaf=1, n_estimators=150; total time=   2.3s\n",
      "[CV] END .max_depth=20, min_samples_leaf=1, n_estimators=150; total time=   2.7s\n",
      "[CV] END .max_depth=20, min_samples_leaf=1, n_estimators=150; total time=   2.2s\n",
      "[CV] END .max_depth=20, min_samples_leaf=1, n_estimators=150; total time=   2.7s\n",
      "[CV] END .max_depth=20, min_samples_leaf=1, n_estimators=150; total time=   2.6s\n",
      "[CV] END ..max_depth=2, min_samples_leaf=7, n_estimators=200; total time=   0.7s\n",
      "[CV] END ..max_depth=2, min_samples_leaf=7, n_estimators=200; total time=   0.7s\n",
      "[CV] END ..max_depth=2, min_samples_leaf=7, n_estimators=200; total time=   0.6s\n",
      "[CV] END ..max_depth=2, min_samples_leaf=7, n_estimators=200; total time=   0.6s\n",
      "[CV] END ..max_depth=2, min_samples_leaf=7, n_estimators=200; total time=   0.5s\n",
      "[CV] END max_depth=14, min_samples_leaf=10, n_estimators=150; total time=   1.3s\n",
      "[CV] END max_depth=14, min_samples_leaf=10, n_estimators=150; total time=   1.5s\n",
      "[CV] END max_depth=14, min_samples_leaf=10, n_estimators=150; total time=   1.4s\n",
      "[CV] END max_depth=14, min_samples_leaf=10, n_estimators=150; total time=   1.4s\n",
      "[CV] END max_depth=14, min_samples_leaf=10, n_estimators=150; total time=   1.2s\n",
      "[CV] END .max_depth=18, min_samples_leaf=3, n_estimators=100; total time=   1.0s\n",
      "[CV] END .max_depth=18, min_samples_leaf=3, n_estimators=100; total time=   1.0s\n",
      "[CV] END .max_depth=18, min_samples_leaf=3, n_estimators=100; total time=   1.0s\n",
      "[CV] END .max_depth=18, min_samples_leaf=3, n_estimators=100; total time=   1.1s\n",
      "[CV] END .max_depth=18, min_samples_leaf=3, n_estimators=100; total time=   1.0s\n",
      "[CV] END ....max_depth=8, min_samples_leaf=3, n_estimators=2; total time=   0.0s\n",
      "[CV] END ....max_depth=8, min_samples_leaf=3, n_estimators=2; total time=   0.0s\n",
      "[CV] END ....max_depth=8, min_samples_leaf=3, n_estimators=2; total time=   0.0s\n",
      "[CV] END ....max_depth=8, min_samples_leaf=3, n_estimators=2; total time=   0.0s\n",
      "[CV] END ....max_depth=8, min_samples_leaf=3, n_estimators=2; total time=   0.0s\n",
      "[CV] END .max_depth=20, min_samples_leaf=5, n_estimators=150; total time=   1.4s\n",
      "[CV] END .max_depth=20, min_samples_leaf=5, n_estimators=150; total time=   1.4s\n",
      "[CV] END .max_depth=20, min_samples_leaf=5, n_estimators=150; total time=   1.4s\n",
      "[CV] END .max_depth=20, min_samples_leaf=5, n_estimators=150; total time=   1.8s\n",
      "[CV] END .max_depth=20, min_samples_leaf=5, n_estimators=150; total time=   1.7s\n",
      "[CV] END .max_depth=2, min_samples_leaf=10, n_estimators=150; total time=   0.4s\n",
      "[CV] END .max_depth=2, min_samples_leaf=10, n_estimators=150; total time=   0.4s\n",
      "[CV] END .max_depth=2, min_samples_leaf=10, n_estimators=150; total time=   0.4s\n",
      "[CV] END .max_depth=2, min_samples_leaf=10, n_estimators=150; total time=   0.4s\n",
      "[CV] END .max_depth=2, min_samples_leaf=10, n_estimators=150; total time=   0.4s\n",
      "[CV] END .max_depth=8, min_samples_leaf=10, n_estimators=150; total time=   1.1s\n",
      "[CV] END .max_depth=8, min_samples_leaf=10, n_estimators=150; total time=   1.1s\n",
      "[CV] END .max_depth=8, min_samples_leaf=10, n_estimators=150; total time=   2.1s\n",
      "[CV] END .max_depth=8, min_samples_leaf=10, n_estimators=150; total time=   2.3s\n",
      "[CV] END .max_depth=8, min_samples_leaf=10, n_estimators=150; total time=   1.7s\n"
     ]
    },
    {
     "data": {
      "text/plain": [
       "0.8588783743319018"
      ]
     },
     "execution_count": 20,
     "metadata": {},
     "output_type": "execute_result"
    }
   ],
   "source": [
    "from sklearn.model_selection import RandomizedSearchCV\n",
    "\n",
    "parameters = {\"max_depth\": [2, 8, 10, 12, 14, 18, 20],\n",
    "              \"min_samples_leaf\": [1, 3, 5, 7, 10],\n",
    "              \"n_estimators\": [2, 10, 100, 150, 200]\n",
    "              }\n",
    "\n",
    "forest = RandomForestClassifier()\n",
    "rnd_search = RandomizedSearchCV(forest, parameters, n_iter=20, verbose=2)\n",
    "rnd_search.fit(X_train, y_train)\n",
    "rnd_search.best_score_"
   ]
  },
  {
   "cell_type": "code",
   "execution_count": 21,
   "metadata": {},
   "outputs": [
    {
     "data": {
      "text/plain": [
       "{'n_estimators': 150, 'min_samples_leaf': 5, 'max_depth': 20}"
      ]
     },
     "execution_count": 21,
     "metadata": {},
     "output_type": "execute_result"
    }
   ],
   "source": [
    "rnd_search.best_params_"
   ]
  },
  {
   "cell_type": "code",
   "execution_count": 22,
   "metadata": {},
   "outputs": [
    {
     "data": {
      "text/plain": [
       "0.8588783743319018"
      ]
     },
     "execution_count": 22,
     "metadata": {},
     "output_type": "execute_result"
    }
   ],
   "source": [
    "rnd_search.best_score_"
   ]
  },
  {
   "cell_type": "code",
   "execution_count": 23,
   "metadata": {},
   "outputs": [
    {
     "data": {
      "image/png": "[encoded data removed]",
      "text/plain": [
       "<Figure size 640x480 with 2 Axes>"
      ]
     },
     "metadata": {},
     "output_type": "display_data"
    }
   ],
   "source": [
    "xlabel = \"n_estimators\"\n",
    "ylabel = \"max_depth\"\n",
    "zlabel = \"min_samples_leaf\"\n",
    "x = []\n",
    "y = []\n",
    "z = []\n",
    "for param in rnd_search.cv_results_[\"params\"]:\n",
    "    x.append(param[xlabel])\n",
    "    y.append(param[ylabel])\n",
    "    z.append(param[zlabel])\n",
    "\n",
    "plt.scatter(x, y, s=50*np.array(z),\n",
    "            c=rnd_search.cv_results_[\"mean_test_score\"])\n",
    "plt.colorbar(label=\"mean test score\")\n",
    "plt.xlabel(xlabel)\n",
    "plt.ylabel(ylabel)\n",
    "plt.xscale(\"log\")"
   ]
  },
  {
   "cell_type": "code",
   "execution_count": 24,
   "metadata": {},
   "outputs": [],
   "source": [
    "# take the \"best\" model\n",
    "model = rnd_search.best_estimator_"
   ]
  },
  {
   "attachments": {},
   "cell_type": "markdown",
   "metadata": {},
   "source": [
    "### just to all be on the same page, lets train one last model!"
   ]
  },
  {
   "cell_type": "code",
   "execution_count": 25,
   "metadata": {},
   "outputs": [
    {
     "data": {
      "text/html": [
       "<style>#sk-container-id-4 {color: black;background-color: white;}#sk-container-id-4 pre{padding: 0;}#sk-container-id-4 div.sk-toggleable {background-color: white;}#sk-container-id-4 label.sk-toggleable__label {cursor: pointer;display: block;width: 100%;margin-bottom: 0;padding: 0.3em;box-sizing: border-box;text-align: center;}#sk-container-id-4 label.sk-toggleable__label-arrow:before {content: \"▸\";float: left;margin-right: 0.25em;color: #696969;}#sk-container-id-4 label.sk-toggleable__label-arrow:hover:before {color: black;}#sk-container-id-4 div.sk-estimator:hover label.sk-toggleable__label-arrow:before {color: black;}#sk-container-id-4 div.sk-toggleable__content {max-height: 0;max-width: 0;overflow: hidden;text-align: left;background-color: #f0f8ff;}#sk-container-id-4 div.sk-toggleable__content pre {margin: 0.2em;color: black;border-radius: 0.25em;background-color: #f0f8ff;}#sk-container-id-4 input.sk-toggleable__control:checked~div.sk-toggleable__content {max-height: 200px;max-width: 100%;overflow: auto;}#sk-container-id-4 input.sk-toggleable__control:checked~label.sk-toggleable__label-arrow:before {content: \"▾\";}#sk-container-id-4 div.sk-estimator input.sk-toggleable__control:checked~label.sk-toggleable__label {background-color: #d4ebff;}#sk-container-id-4 div.sk-label input.sk-toggleable__control:checked~label.sk-toggleable__label {background-color: #d4ebff;}#sk-container-id-4 input.sk-hidden--visually {border: 0;clip: rect(1px 1px 1px 1px);clip: rect(1px, 1px, 1px, 1px);height: 1px;margin: -1px;overflow: hidden;padding: 0;position: absolute;width: 1px;}#sk-container-id-4 div.sk-estimator {font-family: monospace;background-color: #f0f8ff;border: 1px dotted black;border-radius: 0.25em;box-sizing: border-box;margin-bottom: 0.5em;}#sk-container-id-4 div.sk-estimator:hover {background-color: #d4ebff;}#sk-container-id-4 div.sk-parallel-item::after {content: \"\";width: 100%;border-bottom: 1px solid gray;flex-grow: 1;}#sk-container-id-4 div.sk-label:hover label.sk-toggleable__label {background-color: #d4ebff;}#sk-container-id-4 div.sk-serial::before {content: \"\";position: absolute;border-left: 1px solid gray;box-sizing: border-box;top: 0;bottom: 0;left: 50%;z-index: 0;}#sk-container-id-4 div.sk-serial {display: flex;flex-direction: column;align-items: center;background-color: white;padding-right: 0.2em;padding-left: 0.2em;position: relative;}#sk-container-id-4 div.sk-item {position: relative;z-index: 1;}#sk-container-id-4 div.sk-parallel {display: flex;align-items: stretch;justify-content: center;background-color: white;position: relative;}#sk-container-id-4 div.sk-item::before, #sk-container-id-4 div.sk-parallel-item::before {content: \"\";position: absolute;border-left: 1px solid gray;box-sizing: border-box;top: 0;bottom: 0;left: 50%;z-index: -1;}#sk-container-id-4 div.sk-parallel-item {display: flex;flex-direction: column;z-index: 1;position: relative;background-color: white;}#sk-container-id-4 div.sk-parallel-item:first-child::after {align-self: flex-end;width: 50%;}#sk-container-id-4 div.sk-parallel-item:last-child::after {align-self: flex-start;width: 50%;}#sk-container-id-4 div.sk-parallel-item:only-child::after {width: 0;}#sk-container-id-4 div.sk-dashed-wrapped {border: 1px dashed gray;margin: 0 0.4em 0.5em 0.4em;box-sizing: border-box;padding-bottom: 0.4em;background-color: white;}#sk-container-id-4 div.sk-label label {font-family: monospace;font-weight: bold;display: inline-block;line-height: 1.2em;}#sk-container-id-4 div.sk-label-container {text-align: center;}#sk-container-id-4 div.sk-container {/* jupyter's `normalize.less` sets `[hidden] { display: none; }` but bootstrap.min.css set `[hidden] { display: none !important; }` so we also need the `!important` here to be able to override the default hidden behavior on the sphinx rendered scikit-learn.org. See: https://github.com/scikit-learn/scikit-learn/issues/21755 */display: inline-block !important;position: relative;}#sk-container-id-4 div.sk-text-repr-fallback {display: none;}</style><div id=\"sk-container-id-4\" class=\"sk-top-container\"><div class=\"sk-text-repr-fallback\"><pre>RandomForestClassifier(max_depth=7, min_samples_leaf=5, random_state=10)</pre><b>In a Jupyter environment, please rerun this cell to show the HTML representation or trust the notebook. <br />On GitHub, the HTML representation is unable to render, please try loading this page with nbviewer.org.</b></div><div class=\"sk-container\" hidden><div class=\"sk-item\"><div class=\"sk-estimator sk-toggleable\"><input class=\"sk-toggleable__control sk-hidden--visually\" id=\"sk-estimator-id-6\" type=\"checkbox\" checked><label for=\"sk-estimator-id-6\" class=\"sk-toggleable__label sk-toggleable__label-arrow\">RandomForestClassifier</label><div class=\"sk-toggleable__content\"><pre>RandomForestClassifier(max_depth=7, min_samples_leaf=5, random_state=10)</pre></div></div></div></div></div>"
      ],
      "text/plain": [
       "RandomForestClassifier(max_depth=7, min_samples_leaf=5, random_state=10)"
      ]
     },
     "execution_count": 25,
     "metadata": {},
     "output_type": "execute_result"
    }
   ],
   "source": [
    "model = RandomForestClassifier(n_estimators=100,\n",
    "                               max_depth=7,\n",
    "                               min_samples_leaf=5,\n",
    "                               random_state=10)\n",
    "\n",
    "model.fit(X_train, y_train)"
   ]
  },
  {
   "attachments": {},
   "cell_type": "markdown",
   "metadata": {},
   "source": [
    "<a name='7'></a>\n",
    "## 7. Explainability\n",
    "Using a random forest has improved results, but we've lost some of the natural interpretability of trees. In this section we'll try to explain the predictions using slightly more sophisticated techniques. \n",
    "\n",
    "But first, we will simply look at the **feature importance**:"
   ]
  },
  {
   "cell_type": "code",
   "execution_count": 26,
   "metadata": {},
   "outputs": [
    {
     "data": {
      "text/plain": [
       "array([0.31655331, 0.0284931 , 0.06146671, 0.00277517, 0.03221338,\n",
       "       0.06296796, 0.03277582, 0.04282271, 0.02791306, 0.0429372 ,\n",
       "       0.02431843, 0.04072527, 0.05986654, 0.03492337, 0.03209587,\n",
       "       0.03143956, 0.04267272, 0.08303981])"
      ]
     },
     "execution_count": 26,
     "metadata": {},
     "output_type": "execute_result"
    }
   ],
   "source": [
    "model.feature_importances_  # what does this mean?"
   ]
  },
  {
   "cell_type": "code",
   "execution_count": 27,
   "metadata": {},
   "outputs": [
    {
     "data": {
      "text/html": [
       "<div>\n",
       "<style scoped>\n",
       "    .dataframe tbody tr th:only-of-type {\n",
       "        vertical-align: middle;\n",
       "    }\n",
       "\n",
       "    .dataframe tbody tr th {\n",
       "        vertical-align: top;\n",
       "    }\n",
       "\n",
       "    .dataframe thead th {\n",
       "        text-align: right;\n",
       "    }\n",
       "</style>\n",
       "<table border=\"1\" class=\"dataframe\">\n",
       "  <thead>\n",
       "    <tr style=\"text-align: right;\">\n",
       "      <th></th>\n",
       "      <th>feature_importance</th>\n",
       "    </tr>\n",
       "  </thead>\n",
       "  <tbody>\n",
       "    <tr>\n",
       "      <th>Age</th>\n",
       "      <td>0.316553</td>\n",
       "    </tr>\n",
       "    <tr>\n",
       "      <th>Pulse pressure</th>\n",
       "      <td>0.083040</td>\n",
       "    </tr>\n",
       "    <tr>\n",
       "      <th>Sedimentation rate</th>\n",
       "      <td>0.062968</td>\n",
       "    </tr>\n",
       "    <tr>\n",
       "      <th>Poverty index</th>\n",
       "      <td>0.061467</td>\n",
       "    </tr>\n",
       "    <tr>\n",
       "      <th>Systolic BP</th>\n",
       "      <td>0.059867</td>\n",
       "    </tr>\n",
       "    <tr>\n",
       "      <th>Serum Magnesium</th>\n",
       "      <td>0.042937</td>\n",
       "    </tr>\n",
       "    <tr>\n",
       "      <th>Serum Cholesterol</th>\n",
       "      <td>0.042823</td>\n",
       "    </tr>\n",
       "    <tr>\n",
       "      <th>BMI</th>\n",
       "      <td>0.042673</td>\n",
       "    </tr>\n",
       "    <tr>\n",
       "      <th>Sex</th>\n",
       "      <td>0.040725</td>\n",
       "    </tr>\n",
       "    <tr>\n",
       "      <th>TIBC</th>\n",
       "      <td>0.034923</td>\n",
       "    </tr>\n",
       "    <tr>\n",
       "      <th>Serum Albumin</th>\n",
       "      <td>0.032776</td>\n",
       "    </tr>\n",
       "    <tr>\n",
       "      <th>Red blood cells</th>\n",
       "      <td>0.032213</td>\n",
       "    </tr>\n",
       "    <tr>\n",
       "      <th>TS</th>\n",
       "      <td>0.032096</td>\n",
       "    </tr>\n",
       "    <tr>\n",
       "      <th>White blood cells</th>\n",
       "      <td>0.031440</td>\n",
       "    </tr>\n",
       "    <tr>\n",
       "      <th>Diastolic BP</th>\n",
       "      <td>0.028493</td>\n",
       "    </tr>\n",
       "    <tr>\n",
       "      <th>Serum Iron</th>\n",
       "      <td>0.027913</td>\n",
       "    </tr>\n",
       "    <tr>\n",
       "      <th>Serum Protein</th>\n",
       "      <td>0.024318</td>\n",
       "    </tr>\n",
       "    <tr>\n",
       "      <th>Race</th>\n",
       "      <td>0.002775</td>\n",
       "    </tr>\n",
       "  </tbody>\n",
       "</table>\n",
       "</div>"
      ],
      "text/plain": [
       "                    feature_importance\n",
       "Age                           0.316553\n",
       "Pulse pressure                0.083040\n",
       "Sedimentation rate            0.062968\n",
       "Poverty index                 0.061467\n",
       "Systolic BP                   0.059867\n",
       "Serum Magnesium               0.042937\n",
       "Serum Cholesterol             0.042823\n",
       "BMI                           0.042673\n",
       "Sex                           0.040725\n",
       "TIBC                          0.034923\n",
       "Serum Albumin                 0.032776\n",
       "Red blood cells               0.032213\n",
       "TS                            0.032096\n",
       "White blood cells             0.031440\n",
       "Diastolic BP                  0.028493\n",
       "Serum Iron                    0.027913\n",
       "Serum Protein                 0.024318\n",
       "Race                          0.002775"
      ]
     },
     "execution_count": 27,
     "metadata": {},
     "output_type": "execute_result"
    }
   ],
   "source": [
    "feature_importance = pd.DataFrame(model.feature_importances_, columns=[\"feature_importance\"], index=X_train.columns)\n",
    "feature_importance.sort_values(\"feature_importance\", ascending=False)"
   ]
  },
  {
   "cell_type": "code",
   "execution_count": null,
   "metadata": {},
   "outputs": [],
   "source": []
  },
  {
   "attachments": {},
   "cell_type": "markdown",
   "metadata": {
    "colab_type": "text",
    "id": "CFM27SfS1QSD"
   },
   "source": [
    "<a name='shap'></a>\n",
    "## Better than only feature importance: SHAP\n",
    "\n",
    "Looking at the feature importance was interesting, and tells us a bit more about the model.\n",
    "But since recently, we can do much better!\n",
    "\n",
    "Now we will apply **SHAP (SHapley Additive exPlanations)**, a cutting edge method that explains predictions made by black-box machine learning models (i.e. models which are too complex to be understandable by humans as is).\n",
    "\n",
    "> Given a prediction made by a machine learning model, SHAP values explain the prediction by quantifying the additive importance of each feature to the prediction. SHAP values have their roots in cooperative game theory, where Shapley values are used to quantify the contribution of each player to the game.\n",
    "> \n",
    "> Although it is computationally expensive to compute SHAP values for general black-box models, in the case of trees and forests there exists a fast polynomial-time algorithm. For more details, see the [TreeShap paper](https://arxiv.org/pdf/1802.03888.pdf).\n",
    "\n",
    "We'll use the [shap library](https://github.com/slundberg/shap) to do this for our random forest model. Run the next cell to output the most at risk individuals in the test set according to our model."
   ]
  },
  {
   "cell_type": "code",
   "execution_count": 28,
   "metadata": {
    "colab": {
     "base_uri": "https://localhost:8080/",
     "height": 258
    },
    "colab_type": "code",
    "id": "emlK-wlyJEel",
    "outputId": "5de57232-6d03-4c0f-d438-ba4ad393d6af"
   },
   "outputs": [],
   "source": [
    "X_test_risk = X_test.copy(deep=True)\n"
   ]
  },
  {
   "attachments": {},
   "cell_type": "markdown",
   "metadata": {
    "colab_type": "text",
    "id": "aefDv0PDKrfv"
   },
   "source": [
    "We can use SHAP values to try and understand the model output on specific individuals using force plots. Run the cell below to see a force plot on the riskiest individual. "
   ]
  },
  {
   "cell_type": "code",
   "execution_count": 29,
   "metadata": {},
   "outputs": [
    {
     "name": "stdout",
     "output_type": "stream",
     "text": [
      "4680\n",
      "Age                    72.000000\n",
      "Diastolic BP           70.000000\n",
      "Poverty index         218.000000\n",
      "Race                    1.000000\n",
      "Red blood cells        49.700000\n",
      "Sedimentation rate      8.000000\n",
      "Serum Albumin           4.000000\n",
      "Serum Cholesterol     186.000000\n",
      "Serum Iron            128.000000\n",
      "Serum Magnesium         1.490000\n",
      "Serum Protein           6.900000\n",
      "Sex                     1.000000\n",
      "Systolic BP           150.000000\n",
      "TIBC                  330.000000\n",
      "TS                     38.800000\n",
      "White blood cells       6.900000\n",
      "BMI                    25.522159\n",
      "Pulse pressure         80.000000\n",
      "Name: 4680, dtype: float64 \n",
      "\n",
      "Our model predicts: [False]\n"
     ]
    }
   ],
   "source": [
    "i = 1000\n",
    "patientID = X_test_risk.index[i]\n",
    "print(patientID)\n",
    "print(X_test.loc[patientID, :], \"\\n\")\n",
    "print(f\"Our model predicts: {model.predict(X_test.loc[[patientID]])}\")"
   ]
  },
  {
   "attachments": {},
   "cell_type": "markdown",
   "metadata": {},
   "source": [
    "### Why this prediction?"
   ]
  },
  {
   "cell_type": "code",
   "execution_count": null,
   "metadata": {
    "colab": {
     "base_uri": "https://localhost:8080/",
     "height": 276
    },
    "colab_type": "code",
    "id": "elJX1FqWKzYm",
    "outputId": "7c97d958-9383-4d7a-bb2b-e61af5ecf47f"
   },
   "outputs": [],
   "source": []
  }
 ],
 "metadata": {
  "colab": {
   "collapsed_sections": [
    "-gc0vttU7Dkf",
    "CFM27SfS1QSD"
   ],
   "include_colab_link": true,
   "name": "C2_W2_Assignment.ipynb",
   "provenance": [],
   "toc_visible": true
  },
  "kernelspec": {
   "display_name": "Python 3 (ipykernel)",
   "language": "python",
   "name": "python3"
  },
  "language_info": {
   "codemirror_mode": {
    "name": "ipython",
    "version": 3
   },
   "file_extension": ".py",
   "mimetype": "text/x-python",
   "name": "python",
   "nbconvert_exporter": "python",
   "pygments_lexer": "ipython3",
   "version": "3.9.16"
  }
 },
 "nbformat": 4,
 "nbformat_minor": 4
}
