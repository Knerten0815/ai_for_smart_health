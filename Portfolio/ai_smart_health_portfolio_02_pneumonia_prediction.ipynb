{
 "cells": [
  {
   "cell_type": "code",
   "execution_count": 109,
   "id": "7df7b344",
   "metadata": {},
   "outputs": [],
   "source": [
    "import os\n",
    "import numpy as np\n",
    "import pandas as pd\n",
    "import tensorflow as tf\n",
    "import matplotlib.pyplot as plt\n",
    "from sklearn.model_selection import train_test_split"
   ]
  },
  {
   "cell_type": "code",
   "execution_count": 110,
   "id": "5180d282",
   "metadata": {},
   "outputs": [],
   "source": [
    "pd.set_option(\"display.max_rows\", 15)"
   ]
  },
  {
   "attachments": {},
   "cell_type": "markdown",
   "id": "0c01f4ef",
   "metadata": {},
   "source": [
    "## The Dataset\n",
    "\n",
    "Similar to former notebooks where we worked with the [ChestX-ray8 dataset](https://arxiv.org/abs/1705.02315), where here have a smaller X-ray dataset containing 5856 images.\n",
    "Instead of 14 different diseases we will here concentrate on much fewer possible labels so that *hopefully* the number of images is enough to train good deep learning classifiers.\n",
    "\n",
    "The images are distributed accross two folders (`NORMAL` and `PNEUMONIA`), the related metadata can be found in `x_ray_metadata_portfolio.csv` but actually also is reflected in the image file names."
   ]
  },
  {
   "attachments": {},
   "cell_type": "markdown",
   "id": "01021945",
   "metadata": {},
   "source": [
    "## Import metadata"
   ]
  },
  {
   "cell_type": "code",
   "execution_count": 111,
   "id": "953f519c",
   "metadata": {},
   "outputs": [],
   "source": [
    "path = \"../data/ChestXray_pneumonia_prediction/\"\n",
    "csv_file = 'x_ray_metadata_portfolio.csv'\n",
    "metadata = pd.read_csv(path + csv_file)"
   ]
  },
  {
   "attachments": {},
   "cell_type": "markdown",
   "id": "08a4be7d",
   "metadata": {},
   "source": [
    "# Portfolio exercises:\n",
    "### 1. load and inspect the data \n",
    "- what are missing/problematic entries?"
   ]
  },
  {
   "cell_type": "code",
   "execution_count": 112,
   "id": "15b0b0fc",
   "metadata": {},
   "outputs": [
    {
     "data": {
      "text/html": [
       "<div>\n",
       "<style scoped>\n",
       "    .dataframe tbody tr th:only-of-type {\n",
       "        vertical-align: middle;\n",
       "    }\n",
       "\n",
       "    .dataframe tbody tr th {\n",
       "        vertical-align: top;\n",
       "    }\n",
       "\n",
       "    .dataframe thead th {\n",
       "        text-align: right;\n",
       "    }\n",
       "</style>\n",
       "<table border=\"1\" class=\"dataframe\">\n",
       "  <thead>\n",
       "    <tr style=\"text-align: right;\">\n",
       "      <th></th>\n",
       "      <th>patient_id</th>\n",
       "      <th>label</th>\n",
       "      <th>infection_type</th>\n",
       "      <th>folder</th>\n",
       "      <th>image</th>\n",
       "    </tr>\n",
       "  </thead>\n",
       "  <tbody>\n",
       "    <tr>\n",
       "      <th>0</th>\n",
       "      <td>0001</td>\n",
       "      <td>normal</td>\n",
       "      <td>none</td>\n",
       "      <td>NORMAL</td>\n",
       "      <td>IM-0001-0001.jpeg</td>\n",
       "    </tr>\n",
       "    <tr>\n",
       "      <th>1</th>\n",
       "      <td>0003</td>\n",
       "      <td>normal</td>\n",
       "      <td>none</td>\n",
       "      <td>NORMAL</td>\n",
       "      <td>IM-0003-0001.jpeg</td>\n",
       "    </tr>\n",
       "    <tr>\n",
       "      <th>2</th>\n",
       "      <td>0005</td>\n",
       "      <td>normal</td>\n",
       "      <td>none</td>\n",
       "      <td>NORMAL</td>\n",
       "      <td>IM-0005-0001.jpeg</td>\n",
       "    </tr>\n",
       "    <tr>\n",
       "      <th>3</th>\n",
       "      <td>0006</td>\n",
       "      <td>normal</td>\n",
       "      <td>none</td>\n",
       "      <td>NORMAL</td>\n",
       "      <td>IM-0006-0001.jpeg</td>\n",
       "    </tr>\n",
       "    <tr>\n",
       "      <th>4</th>\n",
       "      <td>0007</td>\n",
       "      <td>normal</td>\n",
       "      <td>none</td>\n",
       "      <td>NORMAL</td>\n",
       "      <td>IM-0007-0001.jpeg</td>\n",
       "    </tr>\n",
       "  </tbody>\n",
       "</table>\n",
       "</div>"
      ],
      "text/plain": [
       "  patient_id   label infection_type  folder              image\n",
       "0       0001  normal           none  NORMAL  IM-0001-0001.jpeg\n",
       "1       0003  normal           none  NORMAL  IM-0003-0001.jpeg\n",
       "2       0005  normal           none  NORMAL  IM-0005-0001.jpeg\n",
       "3       0006  normal           none  NORMAL  IM-0006-0001.jpeg\n",
       "4       0007  normal           none  NORMAL  IM-0007-0001.jpeg"
      ]
     },
     "execution_count": 112,
     "metadata": {},
     "output_type": "execute_result"
    }
   ],
   "source": [
    "metadata.head()"
   ]
  },
  {
   "cell_type": "code",
   "execution_count": 113,
   "id": "cf640e21",
   "metadata": {},
   "outputs": [
    {
     "name": "stdout",
     "output_type": "stream",
     "text": [
      "<class 'pandas.core.frame.DataFrame'>\n",
      "RangeIndex: 5856 entries, 0 to 5855\n",
      "Data columns (total 5 columns):\n",
      " #   Column          Non-Null Count  Dtype \n",
      "---  ------          --------------  ----- \n",
      " 0   patient_id      5856 non-null   object\n",
      " 1   label           5856 non-null   object\n",
      " 2   infection_type  5856 non-null   object\n",
      " 3   folder          5856 non-null   object\n",
      " 4   image           5856 non-null   object\n",
      "dtypes: object(5)\n",
      "memory usage: 228.9+ KB\n"
     ]
    }
   ],
   "source": [
    "metadata.info()"
   ]
  },
  {
   "cell_type": "code",
   "execution_count": 114,
   "id": "367176f3",
   "metadata": {},
   "outputs": [
    {
     "data": {
      "text/plain": [
       "patient_id        0\n",
       "label             0\n",
       "infection_type    0\n",
       "folder            0\n",
       "image             0\n",
       "dtype: int64"
      ]
     },
     "execution_count": 114,
     "metadata": {},
     "output_type": "execute_result"
    }
   ],
   "source": [
    "metadata.isnull().sum()"
   ]
  },
  {
   "attachments": {},
   "cell_type": "markdown",
   "id": "db080bbb",
   "metadata": {},
   "source": [
    "Luckily there are no null values in our data and we can use it without deleting any entries."
   ]
  },
  {
   "attachments": {},
   "cell_type": "markdown",
   "id": "79921bec",
   "metadata": {},
   "source": [
    "### 2. data exploration and cleaning \n",
    "- remove, fill, change data (if you think this makes sense or is necessary/beneficial)\n",
    "- inspect two different types of labels (`label` and `infection_type`). How many classes are there and is there any bias? If so, is there anything we have to take care of?"
   ]
  },
  {
   "cell_type": "code",
   "execution_count": 115,
   "id": "226343ec",
   "metadata": {},
   "outputs": [
    {
     "data": {
      "text/plain": [
       "bacteria    2780\n",
       "none        1583\n",
       "virus       1493\n",
       "Name: infection_type, dtype: int64"
      ]
     },
     "execution_count": 115,
     "metadata": {},
     "output_type": "execute_result"
    }
   ],
   "source": [
    "metadata['infection_type'].value_counts()"
   ]
  },
  {
   "cell_type": "code",
   "execution_count": 116,
   "id": "257a7202",
   "metadata": {},
   "outputs": [
    {
     "data": {
      "text/plain": [
       "pneumonia    4273\n",
       "normal       1583\n",
       "Name: label, dtype: int64"
      ]
     },
     "execution_count": 116,
     "metadata": {},
     "output_type": "execute_result"
    }
   ],
   "source": [
    "metadata['label'].value_counts()"
   ]
  },
  {
   "cell_type": "code",
   "execution_count": 117,
   "id": "dd423ba9",
   "metadata": {},
   "outputs": [
    {
     "data": {
      "text/plain": [
       "2.6993051168667086"
      ]
     },
     "execution_count": 117,
     "metadata": {},
     "output_type": "execute_result"
    }
   ],
   "source": [
    "metadata.loc[metadata['label'] == 'pneumonia'].__len__() / metadata.loc[metadata['label'] == 'normal'].__len__()"
   ]
  },
  {
   "attachments": {},
   "cell_type": "markdown",
   "id": "dede81c0",
   "metadata": {},
   "source": [
    "There are 3 infection types: bacteria, virus and none. There are roughly as many viral infections as there are healthy patients. But the amount of bacterial infections is almost double the size of the other two cases.\n",
    "Also if we just look at the label column the data is heavily biased towards the diseased patients, which is 2.7 times as much."
   ]
  },
  {
   "cell_type": "code",
   "execution_count": 118,
   "id": "1d9a3a31",
   "metadata": {},
   "outputs": [
    {
     "name": "stdout",
     "output_type": "stream",
     "text": [
      "There are 0 patients with pneumonia, that have no bacterial or viral infection\n"
     ]
    }
   ],
   "source": [
    "# check if all infected are also diseased\n",
    "counter = 0\n",
    "for index, row in metadata.iterrows():\n",
    "    if(row[\"infection_type\"] == \"none\" and row['label'] == 'pneumonia'):\n",
    "         counter+=1\n",
    "         \n",
    "print(\"There are {} patients with pneumonia, that have no bacterial or viral infection\".format(counter))"
   ]
  },
  {
   "cell_type": "code",
   "execution_count": 119,
   "id": "0d48375b",
   "metadata": {},
   "outputs": [
    {
     "data": {
      "text/plain": [
       "PNEUMONIA    4273\n",
       "NORMAL       1583\n",
       "Name: folder, dtype: int64"
      ]
     },
     "execution_count": 119,
     "metadata": {},
     "output_type": "execute_result"
    }
   ],
   "source": [
    "metadata['folder'].value_counts()"
   ]
  },
  {
   "cell_type": "code",
   "execution_count": 120,
   "id": "82e02e8c",
   "metadata": {},
   "outputs": [],
   "source": [
    "# check if all pictures are in the right folder\n",
    "for index, row in metadata.iterrows():\n",
    "    if row['folder'].lower() != row['label']:\n",
    "        print('Error in row: ', index)       "
   ]
  },
  {
   "cell_type": "code",
   "execution_count": 121,
   "id": "83bee610",
   "metadata": {},
   "outputs": [
    {
     "data": {
      "text/plain": [
       "person23      31\n",
       "person124     20\n",
       "person441     18\n",
       "person30      15\n",
       "person1320    14\n",
       "              ..\n",
       "person1580     1\n",
       "0907           1\n",
       "person1579     1\n",
       "person1577     1\n",
       "0001           1\n",
       "Name: patient_id, Length: 2790, dtype: int64"
      ]
     },
     "execution_count": 121,
     "metadata": {},
     "output_type": "execute_result"
    }
   ],
   "source": [
    "metadata['patient_id'].value_counts()"
   ]
  },
  {
   "attachments": {},
   "cell_type": "markdown",
   "id": "2191efca",
   "metadata": {},
   "source": [
    "It is also noteworthy that some patients are presented multiple times in the dataset, while others have only a single entry."
   ]
  },
  {
   "attachments": {},
   "cell_type": "markdown",
   "id": "16dc19f3",
   "metadata": {},
   "source": [
    "### 3. Prepare data for machine learning: \n",
    "- Separate data / labels\n",
    "- Split into train ~70% / validation ~15% / test ~15%"
   ]
  },
  {
   "cell_type": "code",
   "execution_count": 122,
   "id": "87daf1e6",
   "metadata": {},
   "outputs": [
    {
     "data": {
      "text/html": [
       "<div>\n",
       "<style scoped>\n",
       "    .dataframe tbody tr th:only-of-type {\n",
       "        vertical-align: middle;\n",
       "    }\n",
       "\n",
       "    .dataframe tbody tr th {\n",
       "        vertical-align: top;\n",
       "    }\n",
       "\n",
       "    .dataframe thead th {\n",
       "        text-align: right;\n",
       "    }\n",
       "</style>\n",
       "<table border=\"1\" class=\"dataframe\">\n",
       "  <thead>\n",
       "    <tr style=\"text-align: right;\">\n",
       "      <th></th>\n",
       "      <th>patient_id</th>\n",
       "      <th>label</th>\n",
       "      <th>infection_type</th>\n",
       "      <th>folder</th>\n",
       "      <th>image</th>\n",
       "      <th>filepath</th>\n",
       "    </tr>\n",
       "  </thead>\n",
       "  <tbody>\n",
       "    <tr>\n",
       "      <th>3649</th>\n",
       "      <td>person276</td>\n",
       "      <td>pneumonia</td>\n",
       "      <td>bacteria</td>\n",
       "      <td>PNEUMONIA</td>\n",
       "      <td>person276_bacteria_1297.jpeg</td>\n",
       "      <td>PNEUMONIA/person276_bacteria_1297.jpeg</td>\n",
       "    </tr>\n",
       "    <tr>\n",
       "      <th>4211</th>\n",
       "      <td>person403</td>\n",
       "      <td>pneumonia</td>\n",
       "      <td>virus</td>\n",
       "      <td>PNEUMONIA</td>\n",
       "      <td>person403_virus_803.jpeg</td>\n",
       "      <td>PNEUMONIA/person403_virus_803.jpeg</td>\n",
       "    </tr>\n",
       "    <tr>\n",
       "      <th>960</th>\n",
       "      <td>0553</td>\n",
       "      <td>normal</td>\n",
       "      <td>none</td>\n",
       "      <td>NORMAL</td>\n",
       "      <td>NORMAL2-IM-0553-0001.jpeg</td>\n",
       "      <td>NORMAL/NORMAL2-IM-0553-0001.jpeg</td>\n",
       "    </tr>\n",
       "    <tr>\n",
       "      <th>23</th>\n",
       "      <td>0031</td>\n",
       "      <td>normal</td>\n",
       "      <td>none</td>\n",
       "      <td>NORMAL</td>\n",
       "      <td>IM-0031-0001.jpeg</td>\n",
       "      <td>NORMAL/IM-0031-0001.jpeg</td>\n",
       "    </tr>\n",
       "    <tr>\n",
       "      <th>810</th>\n",
       "      <td>0353</td>\n",
       "      <td>normal</td>\n",
       "      <td>none</td>\n",
       "      <td>NORMAL</td>\n",
       "      <td>NORMAL2-IM-0353-0001.jpeg</td>\n",
       "      <td>NORMAL/NORMAL2-IM-0353-0001.jpeg</td>\n",
       "    </tr>\n",
       "  </tbody>\n",
       "</table>\n",
       "</div>"
      ],
      "text/plain": [
       "     patient_id      label infection_type     folder  \\\n",
       "3649  person276  pneumonia       bacteria  PNEUMONIA   \n",
       "4211  person403  pneumonia          virus  PNEUMONIA   \n",
       "960        0553     normal           none     NORMAL   \n",
       "23         0031     normal           none     NORMAL   \n",
       "810        0353     normal           none     NORMAL   \n",
       "\n",
       "                             image                                filepath  \n",
       "3649  person276_bacteria_1297.jpeg  PNEUMONIA/person276_bacteria_1297.jpeg  \n",
       "4211      person403_virus_803.jpeg      PNEUMONIA/person403_virus_803.jpeg  \n",
       "960      NORMAL2-IM-0553-0001.jpeg        NORMAL/NORMAL2-IM-0553-0001.jpeg  \n",
       "23               IM-0031-0001.jpeg                NORMAL/IM-0031-0001.jpeg  \n",
       "810      NORMAL2-IM-0353-0001.jpeg        NORMAL/NORMAL2-IM-0353-0001.jpeg  "
      ]
     },
     "execution_count": 122,
     "metadata": {},
     "output_type": "execute_result"
    }
   ],
   "source": [
    "# shuffle data\n",
    "shuffled_data = metadata.sample(frac=1, random_state=42)\n",
    "\n",
    "# combine folder and image file name to file path\n",
    "for index, row in shuffled_data.iterrows():\n",
    "    shuffled_data.at[index, 'filepath'] = \"{}/{}\".format(row['folder'], row['image'])\n",
    "\n",
    "shuffled_data.head()"
   ]
  },
  {
   "cell_type": "code",
   "execution_count": 128,
   "id": "93076ab6",
   "metadata": {},
   "outputs": [
    {
     "name": "stdout",
     "output_type": "stream",
     "text": [
      "(878, 6) (879, 6) (4099, 6)\n",
      "Train data share:  0.6999658469945356\n",
      "Test data share:  0.14993169398907105\n",
      "Validation data share:  0.15010245901639344\n"
     ]
    }
   ],
   "source": [
    "# split train and test data into 70% and 30% respectively\n",
    "train_df, test_df = train_test_split(shuffled_data, test_size=0.3, random_state=42)\n",
    "# split the 30% test data into 15% and 15% for validation and test respectively\n",
    "test_df, val_df = train_test_split(test_df, test_size=0.5, random_state=42)\n",
    "\n",
    "# check the distribution after the split\n",
    "print(test_df.shape, val_df.shape, train_df.shape)\n",
    "\n",
    "print(\"Train data share: \", train_df.shape[0] / shuffled_data.shape[0])\n",
    "print(\"Test data share: \", test_df.shape[0] / shuffled_data.shape[0])\n",
    "print(\"Validation data share: \", val_df.shape[0]/ shuffled_data.shape[0])"
   ]
  },
  {
   "attachments": {},
   "cell_type": "markdown",
   "id": "e3df9bc4",
   "metadata": {},
   "source": [
    "### 4. Build an image generator pipeline\n",
    "- Use keras `ImageDataGenerator` to define a `train_generator` and a `validation_generator`.\n",
    "- Use the generator to recale the pixel values and to reshape the image to the desired format."
   ]
  },
  {
   "cell_type": "code",
   "execution_count": 130,
   "id": "ea319d59",
   "metadata": {},
   "outputs": [
    {
     "name": "stdout",
     "output_type": "stream",
     "text": [
      "Found 4099 validated image filenames.\n",
      "Found 879 validated image filenames.\n"
     ]
    }
   ],
   "source": [
    "from tensorflow.keras.preprocessing.image import ImageDataGenerator\n",
    "\n",
    "# Normalize images\n",
    "image_generator = ImageDataGenerator(\n",
    "    rescale=1.0/255\n",
    ")\n",
    "\n",
    "# Pick your label column(s)\n",
    "label_column = ['N', 'D', 'G', 'C', 'A', 'H', 'M',] # add the label-columns we want to predict\n",
    "\n",
    "# Define the data generators\n",
    "train_generator = image_generator.flow_from_dataframe(\n",
    "    dataframe=train_df,\n",
    "    directory=path,\n",
    "    x_col=\"filepath\",\n",
    "    y_col=\"label\",\n",
    "    target_size=(320, 320),\n",
    "    batch_size=32,\n",
    "    class_mode=\"raw\",\n",
    "    color_mode=\"rgb\" # add color mode\n",
    ")\n",
    "\n",
    "val_generator = image_generator.flow_from_dataframe(\n",
    "    dataframe=val_df,\n",
    "    directory=path,\n",
    "    x_col=\"filepath\",\n",
    "    y_col=\"label\",\n",
    "    target_size=(320, 320),\n",
    "    batch_size=32,\n",
    "    class_mode=\"raw\",\n",
    "    color_mode=\"rgb\", #add color mode,\n",
    "    shuffle=False,  # this is crucial for later evaluation!\n",
    ")"
   ]
  },
  {
   "attachments": {},
   "cell_type": "markdown",
   "id": "6a384786",
   "metadata": {},
   "source": [
    "### 5. Train your own custom-made CNN (pneumonia yes/no prediction)\n",
    "- Define a conventional CNN image classifier (convolution-pooling steps, followed by dense layers) to predict if a patient has pneumonia or not."
   ]
  },
  {
   "attachments": {},
   "cell_type": "markdown",
   "id": "4d8a5077",
   "metadata": {},
   "source": [
    "### 6. Use transfer learning to train a CNN classifier (pneumonia yes/no prediction)\n",
    "- Pick any suitable CNN you like (e.g. Resnet-50, Densenet, MobileNet...) and create your own image classifier from there."
   ]
  },
  {
   "attachments": {},
   "cell_type": "markdown",
   "id": "c06d4357",
   "metadata": {},
   "source": [
    "### 7. Evaluate both models\n",
    "- Evaluate the models on data other than the training data.\n",
    "- Plot a ROC curve and compute the area under the curve (AUC). What does this tell you?\n",
    "- Compare to your custom-made CNN: which one achieves better results (and why)? Which one trains faster (and why)? What would you prefer to use in an actual medical application?"
   ]
  },
  {
   "attachments": {},
   "cell_type": "markdown",
   "id": "20189d53",
   "metadata": {},
   "source": [
    "### 8. Train a CNN for a multi-class prediction (bacteria, virus, none)\n",
    "- Adapt a CNN (e.g. pick one form 5. or 6.) and modify it to predict if a patient has a bacterial or a virus infection, or none of both using the `infection_type` column as label.\n",
    "- This requires to also adapt the generators."
   ]
  },
  {
   "attachments": {},
   "cell_type": "markdown",
   "id": "8d16a92c",
   "metadata": {},
   "source": [
    "### 9. Evaluate the multi-class model\n",
    "- Evaluate the multi-class prediction model, simliar to what you did in (7.). Again also include a ROC curve (now of course for all 3 possible labels).\n",
    "- Is the performance comparable, better, worse than the pneumonia/no pneumonia case?\n",
    "- Which label can be predicted with the highest precision?"
   ]
  },
  {
   "attachments": {},
   "cell_type": "markdown",
   "id": "f30c402b",
   "metadata": {},
   "source": [
    "### 10. Possible improvements\n",
    "Try two possible strategies to improve the results you got on 8. and 9.\n",
    "- Data augmentation.\n",
    "- Model fine tuning. This refers to the training of a large network with lower learning rate, but with more layers of the base model being set to `trainable`.\n",
    "We haven't done this before, so here some example code of how to \"unfreeze\" some layers and make them trainable again:\n",
    "```python\n",
    "# Now: unfreeze some of the base model layers and do a second pass of training\n",
    "for layer in model.layers[:100]:\n",
    "    layer.trainable = False\n",
    "for layer in model.layers[100:]:\n",
    "    layer.trainable = True\n",
    "``` \n",
    "You can still use the `Adam` optimizer, but preferably with a much lower learning rate, maybe `1e-5`.\n",
    "- Do you see any promising effect of one or both of those strategies?"
   ]
  },
  {
   "attachments": {},
   "cell_type": "markdown",
   "id": "cc5554fa",
   "metadata": {},
   "source": [
    "## Final submission:\n",
    "Please address all the above mentioned points in this notebook (e.g., using text cells where needed for explanations or answers). Obviously, you can use code snippets from notebooks we have already worked on during the live coding sessions.\n",
    "\n",
    "\n",
    "### Happy hacking!!!"
   ]
  }
 ],
 "metadata": {
  "kernelspec": {
   "display_name": "Python 3 (ipykernel)",
   "language": "python",
   "name": "python3"
  },
  "language_info": {
   "codemirror_mode": {
    "name": "ipython",
    "version": 3
   },
   "file_extension": ".py",
   "mimetype": "text/x-python",
   "name": "python",
   "nbconvert_exporter": "python",
   "pygments_lexer": "ipython3",
   "version": "3.9.16"
  }
 },
 "nbformat": 4,
 "nbformat_minor": 5
}
