{
 "cells": [
  {
   "cell_type": "markdown",
   "id": "cc5554fa",
   "metadata": {},
   "source": [
    "# Portfolio exercises:\n",
    "### 1. load and inspect the data \n",
    "- what are missing/problematic entries?\n",
    "\n",
    "### 2. data exploration and cleaning \n",
    "- remove, fill, change data (if you think this makes sense or is necessary/beneficial)\n",
    "- inspect two different types of labels (`label` and `infection_type`). How many classes are there and is there any bias? If so, is there anything we have to take care of?\n",
    "\n",
    "\n",
    "### 3. Prepare data for machine learning: \n",
    "- Separate data / labels\n",
    "- Split into train ~70% / validation ~15% / test ~15%\n",
    "\n",
    "### 4. Build an image generator pipeline\n",
    "- Use keras `ImageDataGenerator` to define a `train_generator` and a `validation_generator`.\n",
    "- Use the generator to recale the pixel values and to reshape the image to the desired format.\n",
    "\n",
    "### 5. Train your own custom-made CNN (pneumonia yes/no prediction)\n",
    "- Define a conventional CNN image classifier (convolution-pooling steps, followed by dense layers) to predict if a patient has pneumonia or not.\n",
    "\n",
    "### 6. Use transfer learning to train a CNN classifier (pneumonia yes/no prediction)\n",
    "- Pick any suitable CNN you like (e.g. Resnet-50, Densenet, MobileNet...) and create your own image classifier from there.\n",
    "\n",
    "### 7. Evaluate both models\n",
    "- Evaluate the models on data other than the training data.\n",
    "- Plot a ROC curve and compute the area under the curve (AUC). What does this tell you?\n",
    "- Compare to your custom-made CNN: which one achieves better results (and why)? Which one trains faster (and why)? What would you prefer to use in an actual medical application?\n",
    "\n",
    "### 8. Train a CNN for a multi-class prediction (bacteria, virus, none)\n",
    "- Adapt a CNN (e.g. pick one form 5. or 6.) and modify it to predict if a patient has a bacterial or a virus infection, or none of both using the `infection_type` column as label.\n",
    "- This requires to also adapt the generators.\n",
    "\n",
    "### 9. Evaluate the multi-class model\n",
    "- Evaluate the multi-class prediction model, simliar to what you did in (7.). Again also include a ROC curve (now of course for all 3 possible labels).\n",
    "- Is the performance comparable, better, worse than the pneumonia/no pneumonia case?\n",
    "- Which label can be predicted with the highest precision?\n",
    "\n",
    "### 10. Possible improvements\n",
    "Try two possible strategies to improve the results you got on 8. and 9.\n",
    "- Data augmentation.\n",
    "- Model fine tuning. This refers to the training of a large network with lower learning rate, but with more layers of the base model being set to `trainable`.\n",
    "We haven't done this before, so here some example code of how to \"unfreeze\" some layers and make them trainable again:\n",
    "```python\n",
    "# Now: unfreeze some of the base model layers and do a second pass of training\n",
    "for layer in model.layers[:100]:\n",
    "    layer.trainable = False\n",
    "for layer in model.layers[100:]:\n",
    "    layer.trainable = True\n",
    "``` \n",
    "You can still use the `Adam` optimizer, but preferably with a much lower learning rate, maybe `1e-5`.\n",
    "- Do you see any promising effect of one or both of those strategies?\n",
    "\n",
    "\n",
    "## Final submission:\n",
    "Please address all the above mentioned points in this notebook (e.g., using text cells where needed for explanations or answers). Obviously, you can use code snippets from notebooks we have already worked on during the live coding sessions.\n",
    "\n",
    "\n",
    "### Happy hacking!!!"
   ]
  },
  {
   "cell_type": "code",
   "execution_count": 1,
   "id": "7df7b344",
   "metadata": {},
   "outputs": [],
   "source": [
    "import os\n",
    "import numpy as np\n",
    "import pandas as pd\n",
    "import tensorflow as tf\n",
    "import matplotlib.pyplot as plt\n",
    "from sklearn.model_selection import train_test_split"
   ]
  },
  {
   "cell_type": "markdown",
   "id": "0c01f4ef",
   "metadata": {},
   "source": [
    "## The Dataset\n",
    "\n",
    "Similar to former notebooks where we worked with the [ChestX-ray8 dataset](https://arxiv.org/abs/1705.02315), where here have a smaller X-ray dataset containing 5856 images.\n",
    "Instead of 14 different diseases we will here concentrate on much fewer possible labels so that *hopefully* the number of images is enough to train good deep learning classifiers.\n",
    "\n",
    "The images are distributed accross two folders (`NORMAL` and `PNEUMONIA`), the related metadata can be found in `x_ray_metadata_portfolio.csv` but actually also is reflected in the image file names."
   ]
  },
  {
   "cell_type": "markdown",
   "id": "01021945",
   "metadata": {},
   "source": [
    "## Import metadata"
   ]
  },
  {
   "cell_type": "code",
   "execution_count": 4,
   "id": "953f519c",
   "metadata": {},
   "outputs": [],
   "source": [
    "path_data = \"../../../Data/ChestXray_pneumonia_prediction/\"\n",
    "metadata = pd.read_csv(...)"
   ]
  },
  {
   "cell_type": "code",
   "execution_count": null,
   "id": "82cf426f",
   "metadata": {},
   "outputs": [],
   "source": []
  }
 ],
 "metadata": {
  "kernelspec": {
   "display_name": "Python 3 (ipykernel)",
   "language": "python",
   "name": "python3"
  },
  "language_info": {
   "codemirror_mode": {
    "name": "ipython",
    "version": 3
   },
   "file_extension": ".py",
   "mimetype": "text/x-python",
   "name": "python",
   "nbconvert_exporter": "python",
   "pygments_lexer": "ipython3",
   "version": "3.9.16"
  }
 },
 "nbformat": 4,
 "nbformat_minor": 5
}
